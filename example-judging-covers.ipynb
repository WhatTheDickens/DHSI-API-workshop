{
 "cells": [
  {
   "cell_type": "markdown",
   "metadata": {},
   "source": [
    "# API Mashup: Judging Books by their Covers\n",
    "\n",
    "I'd like to write a short program to find the cover for a given book title, and run it through the Google Cloud Vision API, which will try to guess labels for the cover image.\n",
    "\n",
    "First, import all the libraries we'll need:"
   ]
  },
  {
   "cell_type": "code",
   "execution_count": 22,
   "metadata": {},
   "outputs": [],
   "source": [
    "# For making API requests\n",
    "import requests\n",
    "\n",
    "# For parsing JSON responses\n",
    "import json\n",
    "\n",
    "# For displaying images in a Jupyter notebook\n",
    "from IPython.display import Image\n",
    "\n",
    "# For interacting with the Google Cloud Vision API\n",
    "from google.cloud import vision\n",
    "from google.cloud.vision import types\n",
    "\n",
    "# For setting environment variables.\n",
    "import os"
   ]
  },
  {
   "cell_type": "markdown",
   "metadata": {},
   "source": [
    "Next, the [Google API authentication instructions](https://cloud.google.com/vision/docs/libraries) say to set the [environment variable](https://en.wikipedia.org/wiki/Environment_variable) to the location of the JSON file for your API keys. (This is a JSON file that you can download from Google once you sign up for API access.) "
   ]
  },
  {
   "cell_type": "code",
   "execution_count": 27,
   "metadata": {},
   "outputs": [],
   "source": [
    "os.environ['GOOGLE_APPLICATION_CREDENTIALS'] = '/home/jon/google-creds.json'"
   ]
  },
  {
   "cell_type": "markdown",
   "metadata": {},
   "source": [
    "Let's try to get the ISBN for Frank Herbert's _Dune_. First, make the request to the Open Library API. "
   ]
  },
  {
   "cell_type": "code",
   "execution_count": 188,
   "metadata": {},
   "outputs": [],
   "source": [
    "params = {'title': 'Dune', 'author': 'Frank Herbert'}\n",
    "response = requests.get('http://openlibrary.org/search.json', params=params)"
   ]
  },
  {
   "cell_type": "markdown",
   "metadata": {},
   "source": [
    "Make sure the response came back OK:"
   ]
  },
  {
   "cell_type": "code",
   "execution_count": 189,
   "metadata": {},
   "outputs": [
    {
     "data": {
      "text/plain": [
       "True"
      ]
     },
     "execution_count": 189,
     "metadata": {},
     "output_type": "execute_result"
    }
   ],
   "source": [
    "response.ok"
   ]
  },
  {
   "cell_type": "markdown",
   "metadata": {},
   "source": [
    "Parse the response using our JSON library."
   ]
  },
  {
   "cell_type": "code",
   "execution_count": 190,
   "metadata": {},
   "outputs": [],
   "source": [
    "parsed = json.loads(response.text)"
   ]
  },
  {
   "cell_type": "code",
   "execution_count": 191,
   "metadata": {},
   "outputs": [
    {
     "data": {
      "text/plain": [
       "'0881036366'"
      ]
     },
     "execution_count": 191,
     "metadata": {},
     "output_type": "execute_result"
    }
   ],
   "source": [
    "isbn = parsed['docs'][3]['isbn'][0]\n",
    "isbn"
   ]
  },
  {
   "cell_type": "markdown",
   "metadata": {},
   "source": [
    "Next, look up the cover. The Open Library covers API tells us to construct the URL like this: \n",
    "\n",
    "`http://covers.openlibrary.org/b/$key/$value-$size.jpg` \n",
    "\n",
    "where `$key` is something like \"ISBN\", `$value` is the ISBN, and `$size` is one of `S`, `M`, or `L`."
   ]
  },
  {
   "cell_type": "code",
   "execution_count": 192,
   "metadata": {},
   "outputs": [],
   "source": [
    "coverURL = 'http://covers.openlibrary.org/b/ISBN/' + isbn + '-L.jpg'"
   ]
  },
  {
   "cell_type": "markdown",
   "metadata": {},
   "source": [
    "Let's use Jupyter to try to display this image here."
   ]
  },
  {
   "cell_type": "code",
   "execution_count": 193,
   "metadata": {},
   "outputs": [
    {
     "data": {
      "text/html": [
       "<img src=\"http://covers.openlibrary.org/b/ISBN/0881036366-L.jpg\"/>"
      ],
      "text/plain": [
       "<IPython.core.display.Image object>"
      ]
     },
     "execution_count": 193,
     "metadata": {},
     "output_type": "execute_result"
    }
   ],
   "source": [
    "Image(url=coverURL)"
   ]
  },
  {
   "cell_type": "markdown",
   "metadata": {},
   "source": [
    "We have to save this image to our disk, since for some reason Google can't get this image directly from the source, but needs to read it from our box instead. "
   ]
  },
  {
   "cell_type": "code",
   "execution_count": 194,
   "metadata": {},
   "outputs": [],
   "source": [
    "coverResponse = requests.get(coverURL, stream=True)\n",
    "with open('cover.jpg', 'wb') as f:\n",
    "    f.write(coverResponse.content)"
   ]
  },
  {
   "cell_type": "markdown",
   "metadata": {},
   "source": [
    "Now feed it to the Google Cloud Vision API. I'll make this a little bit easier by using the pre-made Google Cloud Vision client, or library. (I installed this on my computer by running `sudo pip3 install google-cloud-vision`. Here I'm using code adapted from the example at https://cloud.google.com/vision/docs/detecting-labels#vision-label-detection-python.\n"
   ]
  },
  {
   "cell_type": "code",
   "execution_count": 196,
   "metadata": {
    "scrolled": true
   },
   "outputs": [
    {
     "name": "stdout",
     "output_type": "stream",
     "text": [
      "Labels:\n",
      "poster\n",
      "ecoregion\n",
      "landscape\n",
      "font\n",
      "advertising\n"
     ]
    }
   ],
   "source": [
    "client = vision.ImageAnnotatorClient()\n",
    "\n",
    "content = open('cover.jpg', 'rb').read()\n",
    "image = types.Image(content=content)\n",
    "\n",
    "response = client.label_detection(image=image)\n",
    "labels = response.label_annotations\n",
    "print('Labels:')\n",
    "\n",
    "for label in labels:\n",
    "    print(label.description)"
   ]
  },
  {
   "cell_type": "markdown",
   "metadata": {},
   "source": [
    "\"ecoregion\" sounds interesting! "
   ]
  },
  {
   "cell_type": "markdown",
   "metadata": {},
   "source": [
    "## Let's try it again, with another book!\n",
    "\n",
    "Only now we'll wrap this in a function, so it'll be easy to run it multiple times with different inputs."
   ]
  },
  {
   "cell_type": "code",
   "execution_count": 247,
   "metadata": {},
   "outputs": [],
   "source": [
    "def judgeBookByCover(title, author):\n",
    "    params = {'title': title, 'author': author}\n",
    "    response = requests.get('http://openlibrary.org/search.json', params=params)\n",
    "    if response.ok:\n",
    "        parsed = json.loads(response.text)\n",
    "        if len(parsed['docs']) > 0:\n",
    "            if len(parsed['docs'][0]['isbn']) > 0:\n",
    "                isbn = parsed['docs'][0]['isbn'][0]\n",
    "            else:\n",
    "                raise Exception(\"Can't find isbn.\")\n",
    "        else:\n",
    "            raise Exception(\"Can't find book.\")\n",
    "        coverURL = 'http://covers.openlibrary.org/b/ISBN/' + isbn + '-L.jpg'\n",
    "        coverResponse = requests.get(coverURL, stream=True)\n",
    "        if coverResponse.ok:\n",
    "            with open('cover.jpg', 'wb') as f:\n",
    "                f.write(coverResponse.content)\n",
    "            client = vision.ImageAnnotatorClient()\n",
    "            content = open('cover.jpg', 'rb').read()\n",
    "            image = types.Image(content=content)\n",
    "            response = client.label_detection(image=image)\n",
    "            labels = response.label_annotations\n",
    "            print('Judgements:')\n",
    "            for label in labels:\n",
    "                print(label.description)\n",
    "        else:\n",
    "            raise Exception(\"Can't find cover.\")\n",
    "    else: \n",
    "        raise Exception(\"Bad response from initial book search.\")\n"
   ]
  },
  {
   "cell_type": "code",
   "execution_count": 245,
   "metadata": {},
   "outputs": [
    {
     "name": "stdout",
     "output_type": "stream",
     "text": [
      "Judgements:\n",
      "poster\n",
      "mythical creature\n",
      "film\n",
      "mythology\n",
      "fiction\n",
      "fictional character\n",
      "book\n"
     ]
    }
   ],
   "source": [
    "judgeBookByCover('The Princess Bride', 'William Goldman')"
   ]
  },
  {
   "cell_type": "code",
   "execution_count": 246,
   "metadata": {},
   "outputs": [
    {
     "data": {
      "text/html": [
       "<img src=\"http://covers.openlibrary.org/b/ISBN/9780151015443-L.jpg\"/>"
      ],
      "text/plain": [
       "<IPython.core.display.Image object>"
      ]
     },
     "execution_count": 246,
     "metadata": {},
     "output_type": "execute_result"
    }
   ],
   "source": [
    "Image(url=coverURL)"
   ]
  },
  {
   "cell_type": "code",
   "execution_count": 243,
   "metadata": {},
   "outputs": [
    {
     "name": "stdout",
     "output_type": "stream",
     "text": [
      "Judgements:\n",
      "poster\n",
      "film\n",
      "tourism\n",
      "advertising\n"
     ]
    }
   ],
   "source": [
    "judgeBookByCover('Great Gatsby', 'Fitzgerald')"
   ]
  },
  {
   "cell_type": "code",
   "execution_count": 244,
   "metadata": {},
   "outputs": [
    {
     "data": {
      "image/jpeg": "[encoded data removed]",
      "text/plain": [
       "<IPython.core.display.Image object>"
      ]
     },
     "execution_count": 244,
     "metadata": {},
     "output_type": "execute_result"
    }
   ],
   "source": [
    "Image(filename='cover.jpg')"
   ]
  },
  {
   "cell_type": "code",
   "execution_count": 241,
   "metadata": {},
   "outputs": [
    {
     "name": "stdout",
     "output_type": "stream",
     "text": [
      "Judgements:\n",
      "love\n",
      "hand\n",
      "poster\n",
      "still life photography\n",
      "fruit\n",
      "finger\n",
      "produce\n",
      "font\n",
      "hand model\n",
      "photo caption\n"
     ]
    }
   ],
   "source": [
    "judgeBookByCover('Twilight', 'Stephanie Meyer')"
   ]
  },
  {
   "cell_type": "code",
   "execution_count": 242,
   "metadata": {},
   "outputs": [
    {
     "data": {
      "image/jpeg": "[encoded data removed]",
      "text/plain": [
       "<IPython.core.display.Image object>"
      ]
     },
     "execution_count": 242,
     "metadata": {},
     "output_type": "execute_result"
    }
   ],
   "source": [
    "Image(filename='cover.jpg')"
   ]
  },
  {
   "cell_type": "markdown",
   "metadata": {},
   "source": [
    "# Conclusion\n",
    "\n",
    "This doesn't work very well. So, don't judge a book by its cover!"
   ]
  }
 ],
 "metadata": {
  "kernelspec": {
   "display_name": "Python 3",
   "language": "python",
   "name": "python3"
  },
  "language_info": {
   "codemirror_mode": {
    "name": "ipython",
    "version": 3
   },
   "file_extension": ".py",
   "mimetype": "text/x-python",
   "name": "python",
   "nbconvert_exporter": "python",
   "pygments_lexer": "ipython3",
   "version": "3.6.5"
  }
 },
 "nbformat": 4,
 "nbformat_minor": 2
}
