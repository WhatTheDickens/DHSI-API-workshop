{
 "cells": [
  {
   "cell_type": "markdown",
   "metadata": {},
   "source": [
    "# An Overview of Data Formats\n",
    "\n",
    "APIs usually give you data in one of two formats: JSON and XML. JSON stands for JavaScript Object Notation, although it's used widely outside JavaScript programming. XML stands for eXtensible Markup Language. Both are ways to structure data as text. First, let's look at JSON, since it's the newer and more popular of the two formats. \n",
    "\n",
    "## JSON\n",
    "\n",
    "Here is a simple example of some JSON data, as it might be returned from a book catalog like Corpus-DB or WorldCat. Make sure to run the cell below (select it and press the \"Run\" button in the toolbar above) since we'll use it later."
   ]
  },
  {
   "cell_type": "code",
   "execution_count": 2,
   "metadata": {},
   "outputs": [],
   "source": [
    "ulyssesData = \"\"\"\n",
    "              { \"title\": \"Ulysses\", \n",
    "                \"publicationYear\": 1922, \n",
    "                \"author\": { \"name\": \"James Joyce\", \n",
    "                            \"dateOfBirth\": \"1882-02-02\",\n",
    "                            \"dateOfDeath\": \"1941-01-13\",\n",
    "                            \"books\": [\"Dubliners\", \n",
    "                                      \"A Portrait of the Artist as a Young Man\",\n",
    "                                      \"Ulysses\",\n",
    "                                      \"Finnegans Wake\"],\n",
    "                            \"married\": true },\n",
    "                \"publisher\": \"Shakespeare and Company\"\n",
    "                }\n",
    "               \"\"\" "
   ]
  },
  {
   "cell_type": "markdown",
   "metadata": {},
   "source": [
    "I've formatted this data nicely, but JSON parsers don't care about whitespace, so that same data could also be written like this: \n",
    "\n",
    "```json\n",
    "{'title': 'Ulysses', 'publicationYear': 1922, 'author': {'name': 'James Joyce', 'dateOfBirth': '1882-02-02', 'dateOfDeath': '1941-01-13', 'books': ['Dubliners', 'A Portrait of the Artist as a Young Man', 'Ulysses', \"Finnegan's Wake\"], 'married': True}, 'publisher': 'Shakespeare and Company'}\n",
    "```\n",
    "\n",
    "This can look messy sometimes, but don't worry—we'll make sense of it. There are a few things to note here. \n",
    "\n",
    " - Curly brackets `{}` denote key-value pairs, as in Python dictionaries. `\"title\": \"Ulysses\"` is such a key-value pair: `\"title\"` is the key, or data label, and `\"Ulysses\"` is the value, or data itself. \n",
    " - Square brackets, `[]`, denote lists, like the list of Joyce's books here. These are similar to Python's lists.\n",
    " - Also as in Python, strings are enclosed in quotation marks, and integers and other numbers aren't. \n",
    " - The values `true` and `false`, known as Boolean values, are also not enclosed in quotation marks. \n",
    " \n",
    "The nice thing is, we don't *really* need to know all that, because Python will do all the translation for us. First, let's import the JSON parsing library: "
   ]
  },
  {
   "cell_type": "code",
   "execution_count": 3,
   "metadata": {},
   "outputs": [],
   "source": [
    "import json"
   ]
  },
  {
   "cell_type": "markdown",
   "metadata": {},
   "source": [
    "Next, I'm going to load the string `ulyssesData` I just defined above, using the `json.loads()` function. `loads()` loads a string, but if you're loading from a JSON file, you might use `load()` instead. "
   ]
  },
  {
   "cell_type": "code",
   "execution_count": 4,
   "metadata": {},
   "outputs": [],
   "source": [
    "parsedJSON = json.loads(ulyssesData)"
   ]
  },
  {
   "cell_type": "markdown",
   "metadata": {},
   "source": [
    "First, let's take a look at it:"
   ]
  },
  {
   "cell_type": "code",
   "execution_count": 5,
   "metadata": {},
   "outputs": [
    {
     "data": {
      "text/plain": [
       "{'author': {'books': ['Dubliners',\n",
       "   'A Portrait of the Artist as a Young Man',\n",
       "   'Ulysses',\n",
       "   'Finnegans Wake'],\n",
       "  'dateOfBirth': '1882-02-02',\n",
       "  'dateOfDeath': '1941-01-13',\n",
       "  'married': True,\n",
       "  'name': 'James Joyce'},\n",
       " 'publicationYear': 1922,\n",
       " 'publisher': 'Shakespeare and Company',\n",
       " 'title': 'Ulysses'}"
      ]
     },
     "execution_count": 5,
     "metadata": {},
     "output_type": "execute_result"
    }
   ],
   "source": [
    "parsedJSON"
   ]
  },
  {
   "cell_type": "markdown",
   "metadata": {},
   "source": [
    "Python pretty-prints our data for us. (This is a good way of taking messy-looking data and making it look nice, by the way.) \n",
    "\n",
    "## Exploring JSON Data\n",
    "\n",
    "Next, let's explore this data. First, what is this data type? "
   ]
  },
  {
   "cell_type": "code",
   "execution_count": 6,
   "metadata": {},
   "outputs": [
    {
     "data": {
      "text/plain": [
       "dict"
      ]
     },
     "execution_count": 6,
     "metadata": {},
     "output_type": "execute_result"
    }
   ],
   "source": [
    "type(parsedJSON)"
   ]
  },
  {
   "cell_type": "markdown",
   "metadata": {},
   "source": [
    "Great. It's just a Python `dictionary`. With dictionaries, we can use the `.keys()` method to see what keys (available data fields) we can get out of this object. "
   ]
  },
  {
   "cell_type": "code",
   "execution_count": 8,
   "metadata": {},
   "outputs": [
    {
     "data": {
      "text/plain": [
       "dict_keys(['title', 'publicationYear', 'author', 'publisher'])"
      ]
     },
     "execution_count": 8,
     "metadata": {},
     "output_type": "execute_result"
    }
   ],
   "source": [
    "parsedJSON.keys()"
   ]
  },
  {
   "cell_type": "markdown",
   "metadata": {},
   "source": [
    "Now what if we want to get the title of this book? We provide the key inside square brackets and quotes, and it will give us that key's value, like this:"
   ]
  },
  {
   "cell_type": "code",
   "execution_count": 9,
   "metadata": {},
   "outputs": [
    {
     "data": {
      "text/plain": [
       "'Ulysses'"
      ]
     },
     "execution_count": 9,
     "metadata": {},
     "output_type": "execute_result"
    }
   ],
   "source": [
    "parsedJSON['title']"
   ]
  },
  {
   "cell_type": "markdown",
   "metadata": {},
   "source": [
    "Now by storing that in a variable, we can use it in any way we like. Say we're building a Twitter bot that recommends a book published this year 100 year ago (and also imagine that it's 2022). You could write code like this: "
   ]
  },
  {
   "cell_type": "code",
   "execution_count": 10,
   "metadata": {},
   "outputs": [
    {
     "name": "stdout",
     "output_type": "stream",
     "text": [
      "Published one hundred years ago: Ulysses\n"
     ]
    }
   ],
   "source": [
    "# Store the `title` value in a variable called `book`.\n",
    "book = parsedJSON['title']\n",
    "\n",
    "# Combine that value we just stored with the string starting \"Published...\"\n",
    "tweet = \"Published one hundred years ago: \" + book \n",
    "\n",
    "# Print the result, so we can see it here in the notebook.\n",
    "print(tweet) "
   ]
  },
  {
   "cell_type": "markdown",
   "metadata": {},
   "source": [
    "Cool. Now let's get the author's name. Let's start by exploring the `author` field. What data type is it?"
   ]
  },
  {
   "cell_type": "code",
   "execution_count": 11,
   "metadata": {},
   "outputs": [
    {
     "data": {
      "text/plain": [
       "dict"
      ]
     },
     "execution_count": 11,
     "metadata": {},
     "output_type": "execute_result"
    }
   ],
   "source": [
    "type(parsedJSON['author'])"
   ]
  },
  {
   "cell_type": "markdown",
   "metadata": {},
   "source": [
    "It's a dictionary, so we can do the same thing we did before, and get a list of keys for it:"
   ]
  },
  {
   "cell_type": "code",
   "execution_count": 12,
   "metadata": {},
   "outputs": [
    {
     "data": {
      "text/plain": [
       "dict_keys(['name', 'dateOfBirth', 'dateOfDeath', 'books', 'married'])"
      ]
     },
     "execution_count": 12,
     "metadata": {},
     "output_type": "execute_result"
    }
   ],
   "source": [
    "parsedJSON['author'].keys()"
   ]
  },
  {
   "cell_type": "markdown",
   "metadata": {},
   "source": [
    "So the one we want is the `name` field of the `author` field. We can write this: "
   ]
  },
  {
   "cell_type": "code",
   "execution_count": 13,
   "metadata": {},
   "outputs": [
    {
     "data": {
      "text/plain": [
       "'James Joyce'"
      ]
     },
     "execution_count": 13,
     "metadata": {},
     "output_type": "execute_result"
    }
   ],
   "source": [
    "parsedJSON['author']['name']"
   ]
  },
  {
   "cell_type": "markdown",
   "metadata": {},
   "source": [
    "We could add that to our tweet, like this: "
   ]
  },
  {
   "cell_type": "code",
   "execution_count": 14,
   "metadata": {},
   "outputs": [
    {
     "name": "stdout",
     "output_type": "stream",
     "text": [
      "Published one hundred years ago: Ulysses by James Joyce\n"
     ]
    }
   ],
   "source": [
    "author = parsedJSON['author']['name']\n",
    "tweet = \"Published one hundred years ago: \" + book + \" by \" + author\n",
    "print(tweet)"
   ]
  },
  {
   "cell_type": "markdown",
   "metadata": {},
   "source": [
    "Our twitter bot is starting to take shape! But what if we wanted to check whether a book was really published 100 years ago? We can use the `publicationYear` field, and since it's an integer, compare it to the \"current year\" (2022 in this tutorial). So we can wrap the code above in an `if` statement: "
   ]
  },
  {
   "cell_type": "code",
   "execution_count": 52,
   "metadata": {},
   "outputs": [
    {
     "name": "stdout",
     "output_type": "stream",
     "text": [
      "Published one hundred years ago: Ulysses by James Joyce\n"
     ]
    }
   ],
   "source": [
    "currentYear = 2022 # Not really\n",
    "year = parsedJSON['publicationYear']\n",
    "if year == currentYear-100: \n",
    "    author = parsedJSON['author']['name']\n",
    "    tweet = \"Published one hundred years ago: \" + book + \" by \" + author\n",
    "    print(tweet)"
   ]
  },
  {
   "cell_type": "markdown",
   "metadata": {},
   "source": [
    "Now what if we wanted to add a list of other books by the same author? We could take advantage of the `books` list in the `author` field. First, let's see what we're dealing with:"
   ]
  },
  {
   "cell_type": "code",
   "execution_count": 53,
   "metadata": {},
   "outputs": [
    {
     "data": {
      "text/plain": [
       "['Dubliners',\n",
       " 'A Portrait of the Artist as a Young Man',\n",
       " 'Ulysses',\n",
       " 'Finnegans Wake']"
      ]
     },
     "execution_count": 53,
     "metadata": {},
     "output_type": "execute_result"
    }
   ],
   "source": [
    "parsedJSON['author']['books']"
   ]
  },
  {
   "cell_type": "markdown",
   "metadata": {},
   "source": [
    "Now let's make a simple comma-separated series of these books by joining this list together into a string using a comma and a space as a separator: "
   ]
  },
  {
   "cell_type": "code",
   "execution_count": 54,
   "metadata": {},
   "outputs": [
    {
     "name": "stdout",
     "output_type": "stream",
     "text": [
      "Dubliners, A Portrait of the Artist as a Young Man, Ulysses, Finnegans Wake\n"
     ]
    }
   ],
   "source": [
    "otherBooks = parsedJSON['author']['books']\n",
    "# We'll make a simple series by joining together this list of books with commas. \n",
    "otherBooksSeries = \", \".join(otherBooks)\n",
    "print(otherBooksSeries)"
   ]
  },
  {
   "cell_type": "code",
   "execution_count": 55,
   "metadata": {},
   "outputs": [
    {
     "name": "stdout",
     "output_type": "stream",
     "text": [
      "Published one hundred years ago: Ulysses by James Joyce, author of Dubliners, A Portrait of the Artist as a Young Man, Ulysses, Finnegans Wake\n"
     ]
    }
   ],
   "source": [
    "tweet = \"Published one hundred years ago: \" + book + \" by \" + author + \", author of \" + otherBooksSeries\n",
    "print(tweet)"
   ]
  },
  {
   "cell_type": "markdown",
   "metadata": {},
   "source": [
    "## Exercises\n",
    "\n",
    "Exercise 1: adapt the Twitter bot example above so that it also says where _Ulysses_ was first published.\n"
   ]
  },
  {
   "cell_type": "code",
   "execution_count": null,
   "metadata": {},
   "outputs": [],
   "source": []
  },
  {
   "cell_type": "markdown",
   "metadata": {},
   "source": [
    "Exercise 2: Adapt the Twitter bot example above so that it includes the year of first publication. (This is tricky, since `1922` is actually an integer, not a string, so you won't be able to combine them using `+`. You'll have to first convert the integer to a string using the function `str()`. "
   ]
  },
  {
   "cell_type": "code",
   "execution_count": null,
   "metadata": {},
   "outputs": [],
   "source": []
  },
  {
   "cell_type": "markdown",
   "metadata": {},
   "source": [
    "## A Real-World Example: Google Books\n",
    "\n",
    "Let's try this with some real-world data, using Google Books. First, let's make sure we use the `requests` library for working with APIs:"
   ]
  },
  {
   "cell_type": "code",
   "execution_count": 56,
   "metadata": {},
   "outputs": [],
   "source": [
    "import requests"
   ]
  },
  {
   "cell_type": "markdown",
   "metadata": {},
   "source": [
    "I learn from [the Google Books API documentation](https://developers.google.com/books/docs/v1/getting_started) that a book search for books about quilting has the form `https://www.googleapis.com/books/v1/volumes?q=quilting`. We'll construct a query for `Ulysses` using that URL form. We can infer from that URL  form that the first part of that URL, `https://www.googleapis.com/books/v1/volumes`, is the *API endpoint*, and the part following the question mark is the *parameters list*. Those parameters are a key-value pair in the form `key=value`. The key in this case is `q`, short for \"query,\" and the value is \"quiting,\" our search term. In python terms, that's a dictionary that looks like `{\"q\": \"quilting\"}`. So let's say we want to query something else, like books that match the search `Ulysses`. We can pass this as a dictionary to the `params` option of the `requests.get()` function. In other words, we tell `requests` to perform an HTTP `GET` request to the endpoint with the URL we provide, and we tell it that there is one parameter `q` which has the value `Ulysses`. Here, you could either follow along with me, and get information about _Ulysses_, or you could substitute the name of another book."
   ]
  },
  {
   "cell_type": "code",
   "execution_count": 101,
   "metadata": {},
   "outputs": [],
   "source": [
    "endpoint = \"https://www.googleapis.com/books/v1/volumes\"\n",
    "response = requests.get(endpoint, params={\"q\": \"Ulysses James Joyce\"})"
   ]
  },
  {
   "cell_type": "markdown",
   "metadata": {},
   "source": [
    "We could've written that as `requests.get(\"https://www.googleapis.com/books/v1/volumes?q=Ulysses\")`, of course, but this isn't really good practice. By passing the parameters to `requests` explicitly, this allows `requests` to encode our query in URL-safe format. For instance, it will transform `James Joyce` to `James%20Joyce`, where `%20` is the URL-safe code for a space (spaces aren't technically allowed in URLs). \n",
    "\n",
    "Now that we have a result, let's look at it. Verify that the response came back OK. "
   ]
  },
  {
   "cell_type": "code",
   "execution_count": 114,
   "metadata": {},
   "outputs": [
    {
     "data": {
      "text/plain": [
       "True"
      ]
     },
     "execution_count": 114,
     "metadata": {},
     "output_type": "execute_result"
    }
   ],
   "source": [
    "response.ok"
   ]
  },
  {
   "cell_type": "markdown",
   "metadata": {},
   "source": [
    "If you got a `200` code, it worked! If you got some other code, it didn't work. Check the [list of HTTP status codes](https://en.wikipedia.org/wiki/List_of_HTTP_status_codes) to see what went wrong, or check `result.reason`. A `429` code, for instance, could mean that there have been too many requests to this API from our network. In a workshop such as ours, this is likely to happen at least once. \n",
    "\n",
    "If it worked, we can examine the response text. Here, I'm only going to peek at the first thousand characters of the text, since I expect it to be really long. "
   ]
  },
  {
   "cell_type": "code",
   "execution_count": 103,
   "metadata": {},
   "outputs": [
    {
     "name": "stdout",
     "output_type": "stream",
     "text": [
      "{\n",
      " \"kind\": \"books#volumes\",\n",
      " \"totalItems\": 1733,\n",
      " \"items\": [\n",
      "  {\n",
      "   \"kind\": \"books#volume\",\n",
      "   \"id\": \"iH6nCwAAQBAJ\",\n",
      "   \"etag\": \"+iwVKVn96iQ\",\n",
      "   \"selfLink\": \"https://www.googleapis.com/books/v1/volumes/iH6nCwAAQBAJ\",\n",
      "   \"volumeInfo\": {\n",
      "    \"title\": \"ULYSSES (Modern Classics Series)\",\n",
      "    \"authors\": [\n",
      "     \"James Joyce\"\n",
      "    ],\n",
      "    \"publisher\": \"e-artnow\",\n",
      "    \"publishedDate\": \"2016-01-17\",\n",
      "    \"description\": \"This carefully crafted ebook: “ULYSSES (Modern Classics Series)” is formatted for your eReader with a functional and detailed table of contents. Ulysses is a modernist novel by Irish writer James Joyce. It is considered to be one of the most important works of modernist literature, and has been called \\\"a demonstration and summation of the entire movement\\\". Ulysses chronicles the peripatetic appointments and encounters of Leopold Bloom in Dublin in the course of an ordinary day, 16 June 1904. Ulysses is the Latinised name of Odysseus, the hero of Homer's epic poem Odyssey, and th\n"
     ]
    }
   ],
   "source": [
    "print(response.text[:1000])"
   ]
  },
  {
   "cell_type": "markdown",
   "metadata": {},
   "source": [
    "Interesting! What kinds of data can we get from this? First, let's parse this response as JSON."
   ]
  },
  {
   "cell_type": "code",
   "execution_count": 104,
   "metadata": {},
   "outputs": [],
   "source": [
    "ulyssesParsed = json.loads(response.text)"
   ]
  },
  {
   "cell_type": "code",
   "execution_count": 105,
   "metadata": {},
   "outputs": [
    {
     "data": {
      "text/plain": [
       "dict_keys(['kind', 'totalItems', 'items'])"
      ]
     },
     "execution_count": 105,
     "metadata": {},
     "output_type": "execute_result"
    }
   ],
   "source": [
    "ulyssesParsed.keys()"
   ]
  },
  {
   "cell_type": "markdown",
   "metadata": {},
   "source": [
    "Ok, how many items (books) did Google Books find for our query? "
   ]
  },
  {
   "cell_type": "code",
   "execution_count": 106,
   "metadata": {},
   "outputs": [
    {
     "data": {
      "text/plain": [
       "1733"
      ]
     },
     "execution_count": 106,
     "metadata": {},
     "output_type": "execute_result"
    }
   ],
   "source": [
    "ulyssesParsed['totalItems']"
   ]
  },
  {
   "cell_type": "markdown",
   "metadata": {},
   "source": [
    "Let's look at the first item. Remember, to get the first item of a Python list, we can \"slice\" it using `[]`, and get the first element of the list (technically the zeroth element, since Python starts counting at zero) using `[0]`:"
   ]
  },
  {
   "cell_type": "code",
   "execution_count": 107,
   "metadata": {},
   "outputs": [
    {
     "data": {
      "text/plain": [
       "dict_keys(['kind', 'id', 'etag', 'selfLink', 'volumeInfo', 'saleInfo', 'accessInfo', 'searchInfo'])"
      ]
     },
     "execution_count": 107,
     "metadata": {},
     "output_type": "execute_result"
    }
   ],
   "source": [
    "ulyssesParsed['items'][0].keys()"
   ]
  },
  {
   "cell_type": "markdown",
   "metadata": {},
   "source": [
    "`volumeInfo` sounds promising. Let's see what it contains."
   ]
  },
  {
   "cell_type": "code",
   "execution_count": 108,
   "metadata": {},
   "outputs": [
    {
     "data": {
      "text/plain": [
       "{'allowAnonLogging': True,\n",
       " 'authors': ['James Joyce'],\n",
       " 'canonicalVolumeLink': 'https://market.android.com/details?id=book-iH6nCwAAQBAJ',\n",
       " 'categories': ['Fiction'],\n",
       " 'contentVersion': 'preview-1.0.0',\n",
       " 'description': 'This carefully crafted ebook: “ULYSSES (Modern Classics Series)” is formatted for your eReader with a functional and detailed table of contents. Ulysses is a modernist novel by Irish writer James Joyce. It is considered to be one of the most important works of modernist literature, and has been called \"a demonstration and summation of the entire movement\". Ulysses chronicles the peripatetic appointments and encounters of Leopold Bloom in Dublin in the course of an ordinary day, 16 June 1904. Ulysses is the Latinised name of Odysseus, the hero of Homer\\'s epic poem Odyssey, and the novel establishes a series of parallels between its characters and events and those of the poem (the correspondence of Leopold Bloom to Odysseus, Molly Bloom to Penelope, and Stephen Dedalus to Telemachus). Joyce divided Ulysses into 18 chapters or \"episodes\". At first glance much of the book may appear unstructured and chaotic; Joyce once said that he had \"put in so many enigmas and puzzles that it will keep the professors busy for centuries arguing over what I meant\", which would earn the novel \"immortality\". James Joyce (1882-1941) was an Irish novelist and poet, considered to be one of the most influential writers in the modernist avant-garde of the early 20th century. Joyce is best known for Ulysses, the short-story collection Dubliners, and the novels A Portrait of the Artist as a Young Man and Finnegans Wake.',\n",
       " 'imageLinks': {'smallThumbnail': 'http://books.google.com/books/content?id=iH6nCwAAQBAJ&printsec=frontcover&img=1&zoom=5&edge=curl&source=gbs_api',\n",
       "  'thumbnail': 'http://books.google.com/books/content?id=iH6nCwAAQBAJ&printsec=frontcover&img=1&zoom=1&edge=curl&source=gbs_api'},\n",
       " 'industryIdentifiers': [{'identifier': '9788026849841', 'type': 'ISBN_13'},\n",
       "  {'identifier': '8026849841', 'type': 'ISBN_10'}],\n",
       " 'infoLink': 'https://play.google.com/store/books/details?id=iH6nCwAAQBAJ&source=gbs_api',\n",
       " 'language': 'en',\n",
       " 'maturityRating': 'NOT_MATURE',\n",
       " 'pageCount': 900,\n",
       " 'panelizationSummary': {'containsEpubBubbles': False,\n",
       "  'containsImageBubbles': False},\n",
       " 'previewLink': 'http://books.google.com/books?id=iH6nCwAAQBAJ&printsec=frontcover&dq=Ulysses+James+Joyce&hl=&cd=1&source=gbs_api',\n",
       " 'printType': 'BOOK',\n",
       " 'publishedDate': '2016-01-17',\n",
       " 'publisher': 'e-artnow',\n",
       " 'readingModes': {'image': True, 'text': True},\n",
       " 'title': 'ULYSSES (Modern Classics Series)'}"
      ]
     },
     "execution_count": 108,
     "metadata": {},
     "output_type": "execute_result"
    }
   ],
   "source": [
    "ulyssesInfo = ulyssesParsed['items'][0]['volumeInfo']\n",
    "ulyssesInfo"
   ]
  },
  {
   "cell_type": "markdown",
   "metadata": {},
   "source": [
    "Let's grab the first author."
   ]
  },
  {
   "cell_type": "code",
   "execution_count": 86,
   "metadata": {},
   "outputs": [
    {
     "data": {
      "text/plain": [
       "'James Joyce'"
      ]
     },
     "execution_count": 86,
     "metadata": {},
     "output_type": "execute_result"
    }
   ],
   "source": [
    "ulyssesInfo['authors'][0]"
   ]
  },
  {
   "cell_type": "markdown",
   "metadata": {},
   "source": [
    "What if we want to see the image linked to in the `imageLinks` section? (Here I'm using some fancy magic to display this image in this Jupyter notebook. Don't worry about understanding how it works. "
   ]
  },
  {
   "cell_type": "code",
   "execution_count": 99,
   "metadata": {},
   "outputs": [
    {
     "data": {
      "text/html": [
       "<img src=\"http://books.google.com/books/content?id=FeKLCwAAQBAJ&printsec=frontcover&img=1&zoom=1&edge=curl&source=gbs_api\"/>"
      ],
      "text/plain": [
       "<IPython.core.display.Image object>"
      ]
     },
     "execution_count": 99,
     "metadata": {},
     "output_type": "execute_result"
    }
   ],
   "source": [
    "from IPython.display import Image\n",
    "from IPython.core.display import HTML \n",
    "Image(url= ulyssesInfo['imageLinks']['thumbnail'])"
   ]
  },
  {
   "cell_type": "markdown",
   "metadata": {},
   "source": [
    "Cool. What if we wanted to see if it was a very long book? "
   ]
  },
  {
   "cell_type": "code",
   "execution_count": 109,
   "metadata": {},
   "outputs": [
    {
     "data": {
      "text/plain": [
       "True"
      ]
     },
     "execution_count": 109,
     "metadata": {},
     "output_type": "execute_result"
    }
   ],
   "source": [
    "ulyssesInfo['pageCount'] > 700"
   ]
  },
  {
   "cell_type": "markdown",
   "metadata": {},
   "source": [
    "Something fancier: what about getting the average page count of the first five books that match our search? "
   ]
  },
  {
   "cell_type": "code",
   "execution_count": 111,
   "metadata": {},
   "outputs": [
    {
     "data": {
      "text/plain": [
       "[900, 1513, 854, 432, 645]"
      ]
     },
     "execution_count": 111,
     "metadata": {},
     "output_type": "execute_result"
    }
   ],
   "source": [
    "first5Ulysses = ulyssesParsed['items'][:5]\n",
    "pageCounts = [book['volumeInfo']['pageCount'] for book in first5Ulysses]\n",
    "pageCounts"
   ]
  },
  {
   "cell_type": "code",
   "execution_count": 113,
   "metadata": {},
   "outputs": [
    {
     "data": {
      "text/plain": [
       "868.8"
      ]
     },
     "execution_count": 113,
     "metadata": {},
     "output_type": "execute_result"
    }
   ],
   "source": [
    "sum(pageCounts)/len(pageCounts)"
   ]
  },
  {
   "cell_type": "markdown",
   "metadata": {},
   "source": [
    "Imagine writing a web app that would tell you whether a book, according to Google Books, was likely to be very long. You could do that with a function like this, which puts this all together: "
   ]
  },
  {
   "cell_type": "code",
   "execution_count": 123,
   "metadata": {},
   "outputs": [],
   "source": [
    "def isBookLongOnAverage(bookQuery): \n",
    "    endpoint = \"https://www.googleapis.com/books/v1/volumes\"\n",
    "    response = requests.get(endpoint, params={\"q\": bookQuery})\n",
    "    if not response.ok: \n",
    "        return \"There was a bad response from the Google Books API. Can't continue. Sorry! Maybe try later?\"\n",
    "    else: \n",
    "        parsedJSON = json.loads(response.text)\n",
    "        first5books = parsedJSON['items'][:5]\n",
    "        pageCounts = [book['volumeInfo']['pageCount'] for book in first5books]\n",
    "        averageCount = sum(pageCounts)/len(pageCounts)\n",
    "        if averageCount > 600: \n",
    "            return \"These books are over 600 pages, on average! \" +\\\n",
    "                   \"The book you searched for, \" + bookQuery + \", is probably a long book!\"\n",
    "        else:\n",
    "            return \"These books are less than 600 pages, on average. \" +\\\n",
    "                   \"The book you searched for, \" + bookQuery + \", is probably not very long.\""
   ]
  },
  {
   "cell_type": "markdown",
   "metadata": {},
   "source": [
    "Try it out! Enter your own search term here: "
   ]
  },
  {
   "cell_type": "code",
   "execution_count": 124,
   "metadata": {},
   "outputs": [
    {
     "data": {
      "text/plain": [
       "'These books are less than 600 pages, on average. The book you searched for, The Sun Also Rises, is probably not very long.'"
      ]
     },
     "execution_count": 124,
     "metadata": {},
     "output_type": "execute_result"
    }
   ],
   "source": [
    "isBookLongOnAverage('The Sun Also Rises')"
   ]
  },
  {
   "cell_type": "markdown",
   "metadata": {},
   "source": [
    "Note: if you get a `KeyError`, it means that we're looking for the `pageCount` property in our function, but there isn't one. We could get around this by checking whether `pageCount` exists first (`if 'pageCount' in 'volumeInfo'`), but for now, just try another query if that one fails. "
   ]
  },
  {
   "cell_type": "code",
   "execution_count": 127,
   "metadata": {},
   "outputs": [
    {
     "data": {
      "text/plain": [
       "'These books are less than 600 pages, on average. The book you searched for, Pride and Prejudice, is probably not very long.'"
      ]
     },
     "execution_count": 127,
     "metadata": {},
     "output_type": "execute_result"
    }
   ],
   "source": [
    "isBookLongOnAverage('Pride and Prejudice')"
   ]
  },
  {
   "cell_type": "markdown",
   "metadata": {},
   "source": [
    "## XML\n",
    "\n",
    "Sometimes your data will come in XML format. The process is basically the same as with JSON, with a couple differences. We'll use the `xmltodict` library, just because it's easy, but there are lots of other libraries for parsing XML, like Beautiful Soup and LXML. First, try importing the library:"
   ]
  },
  {
   "cell_type": "code",
   "execution_count": 52,
   "metadata": {},
   "outputs": [],
   "source": [
    "import xmltodict"
   ]
  },
  {
   "cell_type": "markdown",
   "metadata": {},
   "source": [
    "If you get an error while running the command above, your computer may not have the `xmltodict` library installed. To install it, run the command `pip3 install xmltodict` in a terminal, or in a Jupyter notebook, prefixed with an exclamation point: `!`. (`pip3 install` is the command for installing Python 3 packages.)"
   ]
  },
  {
   "cell_type": "markdown",
   "metadata": {},
   "source": [
    "Now let's try parsing some sample data. Here's our sample data from above, but in XML format. "
   ]
  },
  {
   "cell_type": "code",
   "execution_count": 53,
   "metadata": {},
   "outputs": [],
   "source": [
    "ulyssesXML = \"\"\"\n",
    "<book>\n",
    "    <title>Ulysses</title>\n",
    "    <publicationDate type=\"year\">1922</publicationDate>\n",
    "    <author>\n",
    "        <name>James Joyce</name>\n",
    "        <dateOfBirth>1882-02-02</dateOfBirth>\n",
    "        <dateOfDeath>1941-01-13</dateOfDeath>\n",
    "        <books>\n",
    "            <book>Dubliners</book>\n",
    "            <book>A Portrait of the Artist as a Young Man</book>\n",
    "            <book>Ulysses</book>\n",
    "            <book>Finnegans Wake</book>\n",
    "        </books>\n",
    "        <married>True</married>\n",
    "    </author>\n",
    "    <publisher>Shakespeare and Company</publisher>\n",
    "</book>\n",
    "\"\"\""
   ]
  },
  {
   "cell_type": "markdown",
   "metadata": {},
   "source": [
    "There are a few things to note here: \n",
    "\n",
    " - every XML document should have a \"root node,\" or a single wrapper element that contains everything else. Here, it's `<book>`. \n",
    " - every XML field starts with a *tag*, like `<title>`, and ends with an *end-tag*, using `</`, like `</title>`. \n",
    " - some tags have *attributes*, like `type=\"year\"` in the tag `<publicationDate type=\"year\">`. These are key-value pairs. \n",
    " \n",
    "Let's try getting data out of this structure."
   ]
  },
  {
   "cell_type": "code",
   "execution_count": 54,
   "metadata": {},
   "outputs": [],
   "source": [
    "parsedXml = xmltodict.parse(ulyssesXML)"
   ]
  },
  {
   "cell_type": "markdown",
   "metadata": {},
   "source": [
    "This data is now in a Python dictionary, as before. Let's say we want to get the author of this book. "
   ]
  },
  {
   "cell_type": "code",
   "execution_count": 55,
   "metadata": {},
   "outputs": [
    {
     "data": {
      "text/plain": [
       "'James Joyce'"
      ]
     },
     "execution_count": 55,
     "metadata": {},
     "output_type": "execute_result"
    }
   ],
   "source": [
    "parsedXml['book']['author']['name']"
   ]
  },
  {
   "cell_type": "markdown",
   "metadata": {},
   "source": [
    "Or a list of books by that author: "
   ]
  },
  {
   "cell_type": "code",
   "execution_count": 56,
   "metadata": {},
   "outputs": [
    {
     "data": {
      "text/plain": [
       "['Dubliners',\n",
       " 'A Portrait of the Artist as a Young Man',\n",
       " 'Ulysses',\n",
       " 'Finnegans Wake']"
      ]
     },
     "execution_count": 56,
     "metadata": {},
     "output_type": "execute_result"
    }
   ],
   "source": [
    "parsedXml['book']['author']['books']['book']"
   ]
  },
  {
   "cell_type": "markdown",
   "metadata": {},
   "source": [
    "That all works about the same as with JSON. One difference here is that data with attributes can be accessed like this: "
   ]
  },
  {
   "cell_type": "code",
   "execution_count": 161,
   "metadata": {},
   "outputs": [
    {
     "data": {
      "text/plain": [
       "'1922'"
      ]
     },
     "execution_count": 161,
     "metadata": {},
     "output_type": "execute_result"
    }
   ],
   "source": [
    "parsedXml['book']['publicationDate']['#text']"
   ]
  },
  {
   "cell_type": "code",
   "execution_count": 162,
   "metadata": {},
   "outputs": [
    {
     "data": {
      "text/plain": [
       "'year'"
      ]
     },
     "execution_count": 162,
     "metadata": {},
     "output_type": "execute_result"
    }
   ],
   "source": [
    "parsedXml['book']['publicationDate']['@type']"
   ]
  },
  {
   "cell_type": "markdown",
   "metadata": {},
   "source": [
    "(As you may have guessed, in this syntax, `#` means \"a value,\" and `@` means \"an attribute.\")"
   ]
  },
  {
   "cell_type": "markdown",
   "metadata": {},
   "source": [
    "## Example: Filler Text\n",
    "\n",
    "There aren't too many APIs these days that return XML, but [Fillerama](http://chrisvalleskey.com/fillerama-post/) is one. It returns filler text from a number of movies and TV shows, in whatever format you like."
   ]
  },
  {
   "cell_type": "code",
   "execution_count": 220,
   "metadata": {},
   "outputs": [],
   "source": [
    "endpoint = \"http://api.chrisvalleskey.com/fillerama/get.php\"\n",
    "parameters = {\"count\": 3,\n",
    "              \"format\": \"xml\", # You could change this to JSON\n",
    "              \"show\": \"holygrail\"}\n",
    "response = requests.get(endpoint, params=parameters)"
   ]
  },
  {
   "cell_type": "code",
   "execution_count": 221,
   "metadata": {},
   "outputs": [
    {
     "data": {
      "text/plain": [
       "<Response [200]>"
      ]
     },
     "execution_count": 221,
     "metadata": {},
     "output_type": "execute_result"
    }
   ],
   "source": [
    "response"
   ]
  },
  {
   "cell_type": "code",
   "execution_count": 222,
   "metadata": {},
   "outputs": [
    {
     "name": "stdout",
     "output_type": "stream",
     "text": [
      "<?xml version=\"1.0\"?>\n",
      "<fillerama>\n",
      "<db>\n",
      "<entry> \n",
      "<source>Arthur</source> \n",
      "<quote>Shut up!</quote> \n",
      "</entry> \n",
      "<entry> \n",
      "<source>Knights of Ni</source> \n",
      "<quote>Ni! Ni! Ni! Ni!</quote> \n",
      "</entry> \n",
      "<entry> \n",
      "<source>Arthur</source> \n",
      "<quote>Shut up! Will you shut up?!</quote> \n",
      "</entry> \n",
      "</db>\n",
      "<headers>\n",
      "<header>Help, help, I'm being repressed!</header>\n",
      "<header>I'm not dead!</header>\n",
      "<header>King Arthur</header>\n",
      "<header>The Knights Who Say Ni demand a sacrifice!</header>\n",
      "<header>Sets The Cinema Back 900 Years!</header>\n",
      "<header>Am I right?</header>\n",
      "<header>Dennis the Peasant</header>\n",
      "<header>Sir Lancelot</header>\n",
      "<header>How do you know she is a witch?</header>\n",
      "<header>First shalt thou take out the Holy Pin</header>\n",
      "<header>We want a shrubbery!!</header>\n",
      "<header>Makes Ben Hur look like an Epic!</header>\n",
      "<header>What&hellip; is your quest?</header>\n",
      "<header>Blue. No, yel&hellip;</header>\n",
      "<header>Bridgekeeper</header>\n",
      "<header>What a strange person</header>\n",
      "</headers>\n",
      "</fillerama>\n"
     ]
    }
   ],
   "source": [
    "print(response.text)"
   ]
  },
  {
   "cell_type": "code",
   "execution_count": 223,
   "metadata": {},
   "outputs": [],
   "source": [
    "# Don't worry about this part. Our parser is breaking \n",
    "# on XML entities for some reason, so I'm just taking them out. \n",
    "import re\n",
    "cleanText = re.sub('&.*;', '', response.text)"
   ]
  },
  {
   "cell_type": "markdown",
   "metadata": {},
   "source": [
    "Parse our XML."
   ]
  },
  {
   "cell_type": "code",
   "execution_count": 224,
   "metadata": {},
   "outputs": [],
   "source": [
    "parsedXml = xmltodict.parse(cleanText)"
   ]
  },
  {
   "cell_type": "markdown",
   "metadata": {},
   "source": [
    "Now let's write something to pretty-print these quotes. "
   ]
  },
  {
   "cell_type": "code",
   "execution_count": 226,
   "metadata": {},
   "outputs": [
    {
     "name": "stdout",
     "output_type": "stream",
     "text": [
      "Arthur:  Shut up!\n",
      "Knights of Ni:  Ni! Ni! Ni! Ni!\n",
      "Arthur:  Shut up! Will you shut up?!\n"
     ]
    }
   ],
   "source": [
    "quotes = parsedXml['fillerama']['db']['entry']\n",
    "for quote in quotes: \n",
    "    print(quote['source'] + ': ', quote['quote'])"
   ]
  },
  {
   "cell_type": "markdown",
   "metadata": {},
   "source": [
    "## Exercise\n",
    "\n",
    "Use fillerama to get filler text from another movie or TV show, and then display it nicely using a technique similar to my example above."
   ]
  }
 ],
 "metadata": {
  "kernelspec": {
   "display_name": "Python 3",
   "language": "python",
   "name": "python3"
  },
  "language_info": {
   "codemirror_mode": {
    "name": "ipython",
    "version": 3
   },
   "file_extension": ".py",
   "mimetype": "text/x-python",
   "name": "python",
   "nbconvert_exporter": "python",
   "pygments_lexer": "ipython3",
   "version": "3.7.3"
  }
 },
 "nbformat": 4,
 "nbformat_minor": 2
}
