{
 "cells": [
  {
   "cell_type": "markdown",
   "metadata": {},
   "source": [
    "# Exploring and Visualizing Data, Part II\n",
    "\n",
    "We learn from [the iTunes search API documentation](https://affiliate.itunes.apple.com/resources/documentation/itunes-store-web-service-search-api/) that we can search all kinds of things in iTunes, without needing to authenticate (not that authentication is that difficult, really). For instance, we can search movies with the key `media` and the value `movie`. We need to provide our search term using the key `term`. The default number of results is 50, but let's try to get as many as we can (200), by setting `limit` to 200. \n",
    "\n",
    "Let's say our research question is: \"how many movie and TV adaptations are there for Shakespeare plays?\" We can search for the names of movies in the iTunes music library. \n",
    "\n",
    "**Warning**: Apple tells us that we can't make more than 20 requests per minute. That sounds reasonable, but it's also something we should be aware of. "
   ]
  },
  {
   "cell_type": "code",
   "execution_count": 6,
   "metadata": {},
   "outputs": [],
   "source": [
    "import requests\n",
    "import json\n",
    "import pandas\n",
    "%matplotlib inline"
   ]
  },
  {
   "cell_type": "markdown",
   "metadata": {},
   "source": [
    "First, let's just get the songs matching one play."
   ]
  },
  {
   "cell_type": "code",
   "execution_count": 7,
   "metadata": {},
   "outputs": [],
   "source": [
    "response = requests.get(\"https://itunes.apple.com/search\", \n",
    "                        params={\"media\": \"movie\", \"term\": \"Hamlet\", \n",
    "                                \"limit\": 200})"
   ]
  },
  {
   "cell_type": "code",
   "execution_count": 8,
   "metadata": {},
   "outputs": [
    {
     "data": {
      "text/plain": [
       "True"
      ]
     },
     "execution_count": 8,
     "metadata": {},
     "output_type": "execute_result"
    }
   ],
   "source": [
    "response.ok"
   ]
  },
  {
   "cell_type": "code",
   "execution_count": 9,
   "metadata": {},
   "outputs": [],
   "source": [
    "parsedJSON = json.loads(response.text)"
   ]
  },
  {
   "cell_type": "code",
   "execution_count": 10,
   "metadata": {},
   "outputs": [
    {
     "data": {
      "text/plain": [
       "dict_keys(['resultCount', 'results'])"
      ]
     },
     "execution_count": 10,
     "metadata": {},
     "output_type": "execute_result"
    }
   ],
   "source": [
    "parsedJSON.keys()"
   ]
  },
  {
   "cell_type": "code",
   "execution_count": 11,
   "metadata": {},
   "outputs": [
    {
     "data": {
      "text/plain": [
       "12"
      ]
     },
     "execution_count": 11,
     "metadata": {},
     "output_type": "execute_result"
    }
   ],
   "source": [
    "parsedJSON['resultCount']"
   ]
  },
  {
   "cell_type": "code",
   "execution_count": 14,
   "metadata": {},
   "outputs": [
    {
     "data": {
      "text/plain": [
       "dict_keys(['wrapperType', 'kind', 'trackId', 'artistName', 'trackName', 'trackCensoredName', 'trackViewUrl', 'previewUrl', 'artworkUrl30', 'artworkUrl60', 'artworkUrl100', 'collectionPrice', 'trackPrice', 'trackRentalPrice', 'collectionHdPrice', 'trackHdPrice', 'trackHdRentalPrice', 'releaseDate', 'collectionExplicitness', 'trackExplicitness', 'trackTimeMillis', 'country', 'currency', 'primaryGenreName', 'contentAdvisoryRating', 'longDescription'])"
      ]
     },
     "execution_count": 14,
     "metadata": {},
     "output_type": "execute_result"
    }
   ],
   "source": [
    "parsedJSON['results'][0].keys()"
   ]
  },
  {
   "cell_type": "code",
   "execution_count": 70,
   "metadata": {},
   "outputs": [
    {
     "name": "stdout",
     "output_type": "stream",
     "text": [
      "Laurence Olivier: Hamlet -- Drama\n",
      "Kenneth Branagh: Hamlet (1996) -- Drama\n",
      "Michael Almereyda: Hamlet (2000) -- Drama\n",
      "Tony Richardson: Hamlet -- Drama\n",
      "Franco Zeffirelli: Hamlet -- Drama\n",
      "Andrew Fleming: Hamlet 2 -- Comedy\n",
      "Greg Watkins: This is Hamlet -- Documentary\n",
      "Antoni Cimolino & Shelagh O'Brien: Hamlet -- Drama\n",
      "Sarah Frankcom & Margaret Williams: Hamlet (2015) -- Drama\n",
      "Kevin Murphy: Mystery Science Theater 3000: Hamlet -- Comedy\n",
      "Matthew Young & Jared Young: Hamlet & Hutch -- Kids & Family\n",
      "Walker Haynes: Hamlet's Ghost -- Kids & Family\n",
      "John Murlowski: Zombie Hamlet -- Comedy\n"
     ]
    }
   ],
   "source": [
    "for track in parsedJSON['results']: \n",
    "    print(track['artistName'] + \": \" + track['trackName'] + \" -- \" + track['primaryGenreName'])"
   ]
  },
  {
   "cell_type": "markdown",
   "metadata": {},
   "source": [
    "Some of those are a little of a stretch (_Zombie Hamlet_?), but we'll take it. Now let's do that same lookup, but for a bunch of Shakespeare play titles. First, define the titles we'll be using: "
   ]
  },
  {
   "cell_type": "code",
   "execution_count": 16,
   "metadata": {},
   "outputs": [],
   "source": [
    "shakesPlays = [\"Hamlet\", \"Othello\", \"Macbeth\", \"King Lear\", \n",
    "               \"Midsummer Night's Dream\", \"Much Ado About Nothing\", \n",
    "               \"Merchant of Venice\", \"Romeo and Juliet\"]"
   ]
  },
  {
   "cell_type": "markdown",
   "metadata": {},
   "source": [
    "Next, write a `for` loop that goes through each of these, and just counts the number of results returned for each query:"
   ]
  },
  {
   "cell_type": "code",
   "execution_count": 17,
   "metadata": {},
   "outputs": [],
   "source": [
    "# As before, we'll start by initializing an empty dictionary:\n",
    "shakesMovies = {}\n",
    "\n",
    "# Now go through each of the plays in our list above,\n",
    "for query in shakesPlays:\n",
    "    # Assemble our request. \n",
    "    params = {\"media\": \"movie\", \"term\": query, \"limit\": 200}\n",
    "    response = requests.get(\"https://itunes.apple.com/search\", params=params)\n",
    "    # Check to see if the request went through OK. \n",
    "    if response.ok: \n",
    "        parsed = json.loads(response.text)\n",
    "        # Check to see if there are results\n",
    "        if 'resultCount' in parsed: \n",
    "            # Create a dictionary entry for our number of results\n",
    "            shakesMovies[query] = parsed['resultCount']"
   ]
  },
  {
   "cell_type": "code",
   "execution_count": 18,
   "metadata": {},
   "outputs": [
    {
     "data": {
      "text/plain": [
       "{'Hamlet': 12,\n",
       " 'Othello': 1,\n",
       " 'Macbeth': 7,\n",
       " 'King Lear': 1,\n",
       " \"Midsummer Night's Dream\": 4,\n",
       " 'Much Ado About Nothing': 2,\n",
       " 'Merchant of Venice': 1,\n",
       " 'Romeo and Juliet': 12}"
      ]
     },
     "execution_count": 18,
     "metadata": {},
     "output_type": "execute_result"
    }
   ],
   "source": [
    "shakesMovies"
   ]
  },
  {
   "cell_type": "code",
   "execution_count": 23,
   "metadata": {},
   "outputs": [
    {
     "data": {
      "text/plain": [
       "<matplotlib.axes._subplots.AxesSubplot at 0x7f4eaf5efb70>"
      ]
     },
     "execution_count": 23,
     "metadata": {},
     "output_type": "execute_result"
    },
    {
     "data": {
      "image/png": "[encoded data removed]",
      "text/plain": [
       "<Figure size 432x288 with 1 Axes>"
      ]
     },
     "metadata": {
      "needs_background": "light"
     },
     "output_type": "display_data"
    }
   ],
   "source": [
    "pandas.Series(shakesMovies).plot(kind='bar')"
   ]
  },
  {
   "cell_type": "markdown",
   "metadata": {},
   "source": [
    "Now we'll do the same thing for TV adaptations of these same Shakespeare plays. We learn from the iTunes API documentation that we need to construct a query with `media` as the key, and `tvShow` as the value. Be careful to use uppercase and lowercase exactly as directed, since these keys and values are often case-sensitive."
   ]
  },
  {
   "cell_type": "code",
   "execution_count": 24,
   "metadata": {},
   "outputs": [],
   "source": [
    "shakesTV = {}\n",
    "for query in shakesPlays:\n",
    "    params = {\"media\": \"tvShow\", \"term\": query, \"limit\": 200}\n",
    "    response = requests.get(\"https://itunes.apple.com/search\", params=params)\n",
    "    if response.ok: \n",
    "        parsed = json.loads(response.text)\n",
    "        if 'resultCount' in parsed: \n",
    "            shakesTV[query] = parsed['resultCount']"
   ]
  },
  {
   "cell_type": "code",
   "execution_count": 25,
   "metadata": {},
   "outputs": [
    {
     "data": {
      "text/plain": [
       "{'Hamlet': 7,\n",
       " 'Othello': 1,\n",
       " 'Macbeth': 6,\n",
       " 'King Lear': 2,\n",
       " \"Midsummer Night's Dream\": 7,\n",
       " 'Much Ado About Nothing': 4,\n",
       " 'Merchant of Venice': 1,\n",
       " 'Romeo and Juliet': 7}"
      ]
     },
     "execution_count": 25,
     "metadata": {},
     "output_type": "execute_result"
    }
   ],
   "source": [
    "shakesTV"
   ]
  },
  {
   "cell_type": "markdown",
   "metadata": {},
   "source": [
    "Now, since we have multi-column data, we need to put this into a Pandas `DataFrame` object. It's like a `Series` object, but for multi-column data, our two columns here being movies and TV. We'll pass a list of our two dictionaries to `DataFrame`, and we'll also give it the option `index`, which will just act as labels. "
   ]
  },
  {
   "cell_type": "code",
   "execution_count": 26,
   "metadata": {},
   "outputs": [
    {
     "data": {
      "text/html": [
       "<div>\n",
       "<style scoped>\n",
       "    .dataframe tbody tr th:only-of-type {\n",
       "        vertical-align: middle;\n",
       "    }\n",
       "\n",
       "    .dataframe tbody tr th {\n",
       "        vertical-align: top;\n",
       "    }\n",
       "\n",
       "    .dataframe thead th {\n",
       "        text-align: right;\n",
       "    }\n",
       "</style>\n",
       "<table border=\"1\" class=\"dataframe\">\n",
       "  <thead>\n",
       "    <tr style=\"text-align: right;\">\n",
       "      <th></th>\n",
       "      <th>Hamlet</th>\n",
       "      <th>King Lear</th>\n",
       "      <th>Macbeth</th>\n",
       "      <th>Merchant of Venice</th>\n",
       "      <th>Midsummer Night's Dream</th>\n",
       "      <th>Much Ado About Nothing</th>\n",
       "      <th>Othello</th>\n",
       "      <th>Romeo and Juliet</th>\n",
       "    </tr>\n",
       "  </thead>\n",
       "  <tbody>\n",
       "    <tr>\n",
       "      <th>movies</th>\n",
       "      <td>12</td>\n",
       "      <td>1</td>\n",
       "      <td>7</td>\n",
       "      <td>1</td>\n",
       "      <td>4</td>\n",
       "      <td>2</td>\n",
       "      <td>1</td>\n",
       "      <td>12</td>\n",
       "    </tr>\n",
       "    <tr>\n",
       "      <th>tv</th>\n",
       "      <td>7</td>\n",
       "      <td>2</td>\n",
       "      <td>6</td>\n",
       "      <td>1</td>\n",
       "      <td>7</td>\n",
       "      <td>4</td>\n",
       "      <td>1</td>\n",
       "      <td>7</td>\n",
       "    </tr>\n",
       "  </tbody>\n",
       "</table>\n",
       "</div>"
      ],
      "text/plain": [
       "        Hamlet  King Lear  Macbeth  Merchant of Venice  \\\n",
       "movies      12          1        7                   1   \n",
       "tv           7          2        6                   1   \n",
       "\n",
       "        Midsummer Night's Dream  Much Ado About Nothing  Othello  \\\n",
       "movies                        4                       2        1   \n",
       "tv                            7                       4        1   \n",
       "\n",
       "        Romeo and Juliet  \n",
       "movies                12  \n",
       "tv                     7  "
      ]
     },
     "execution_count": 26,
     "metadata": {},
     "output_type": "execute_result"
    }
   ],
   "source": [
    "shakespeareAdaptations = pandas.DataFrame([shakesMovies, shakesTV], index=['movies', 'tv'])\n",
    "shakespeareAdaptations"
   ]
  },
  {
   "cell_type": "markdown",
   "metadata": {},
   "source": [
    "That looks great, only our colums and rows are mixed up. We can transpose our data, though, using the `.T` method: "
   ]
  },
  {
   "cell_type": "code",
   "execution_count": 68,
   "metadata": {},
   "outputs": [
    {
     "data": {
      "text/html": [
       "<div>\n",
       "<style>\n",
       "    .dataframe thead tr:only-child th {\n",
       "        text-align: right;\n",
       "    }\n",
       "\n",
       "    .dataframe thead th {\n",
       "        text-align: left;\n",
       "    }\n",
       "\n",
       "    .dataframe tbody tr th {\n",
       "        vertical-align: top;\n",
       "    }\n",
       "</style>\n",
       "<table border=\"1\" class=\"dataframe\">\n",
       "  <thead>\n",
       "    <tr style=\"text-align: right;\">\n",
       "      <th></th>\n",
       "      <th>movies</th>\n",
       "      <th>tv</th>\n",
       "    </tr>\n",
       "  </thead>\n",
       "  <tbody>\n",
       "    <tr>\n",
       "      <th>Hamlet</th>\n",
       "      <td>13</td>\n",
       "      <td>5</td>\n",
       "    </tr>\n",
       "    <tr>\n",
       "      <th>King Lear</th>\n",
       "      <td>1</td>\n",
       "      <td>2</td>\n",
       "    </tr>\n",
       "    <tr>\n",
       "      <th>Macbeth</th>\n",
       "      <td>7</td>\n",
       "      <td>5</td>\n",
       "    </tr>\n",
       "    <tr>\n",
       "      <th>Merchant of Venice</th>\n",
       "      <td>1</td>\n",
       "      <td>0</td>\n",
       "    </tr>\n",
       "    <tr>\n",
       "      <th>Midsummer Night's Dream</th>\n",
       "      <td>3</td>\n",
       "      <td>6</td>\n",
       "    </tr>\n",
       "    <tr>\n",
       "      <th>Much Ado About Nothing</th>\n",
       "      <td>2</td>\n",
       "      <td>3</td>\n",
       "    </tr>\n",
       "    <tr>\n",
       "      <th>Othello</th>\n",
       "      <td>1</td>\n",
       "      <td>1</td>\n",
       "    </tr>\n",
       "    <tr>\n",
       "      <th>Romeo and Juliet</th>\n",
       "      <td>11</td>\n",
       "      <td>8</td>\n",
       "    </tr>\n",
       "  </tbody>\n",
       "</table>\n",
       "</div>"
      ],
      "text/plain": [
       "                         movies  tv\n",
       "Hamlet                       13   5\n",
       "King Lear                     1   2\n",
       "Macbeth                       7   5\n",
       "Merchant of Venice            1   0\n",
       "Midsummer Night's Dream       3   6\n",
       "Much Ado About Nothing        2   3\n",
       "Othello                       1   1\n",
       "Romeo and Juliet             11   8"
      ]
     },
     "execution_count": 68,
     "metadata": {},
     "output_type": "execute_result"
    }
   ],
   "source": [
    "shakespeareAdaptationsT = shakespeareAdaptations.T\n",
    "shakespeareAdaptationsT"
   ]
  },
  {
   "cell_type": "markdown",
   "metadata": {},
   "source": [
    "That's better. Now let's plot it: "
   ]
  },
  {
   "cell_type": "code",
   "execution_count": 69,
   "metadata": {},
   "outputs": [
    {
     "data": {
      "text/plain": [
       "<matplotlib.axes._subplots.AxesSubplot at 0x7fc8cca2f080>"
      ]
     },
     "execution_count": 69,
     "metadata": {},
     "output_type": "execute_result"
    },
    {
     "data": {
      "image/png": "[encoded data removed]",
      "text/plain": [
       "<matplotlib.figure.Figure at 0x7fc8ccafb160>"
      ]
     },
     "metadata": {},
     "output_type": "display_data"
    }
   ],
   "source": [
    "shakespeareAdaptationsT.plot(kind=\"bar\")"
   ]
  },
  {
   "cell_type": "markdown",
   "metadata": {},
   "source": [
    "Nice! What do you notice about this chart? \n",
    "\n",
    "Now how about we do something with genres? We'll create a dictionary where the key will be movie titles, and the value will be a list of movie genres, i.e. `{\"Hamlet\": [\"Drama\", \"Drama\", \"Comedy\"]}`. First, we can initialize this dictionary with a bunch of empty lists. This uses a pattern called a \"dictionary comprehension.\""
   ]
  },
  {
   "cell_type": "code",
   "execution_count": 74,
   "metadata": {},
   "outputs": [
    {
     "data": {
      "text/plain": [
       "{'Hamlet': [],\n",
       " 'King Lear': [],\n",
       " 'Macbeth': [],\n",
       " 'Merchant of Venice': [],\n",
       " \"Midsummer Night's Dream\": [],\n",
       " 'Much Ado About Nothing': [],\n",
       " 'Othello': [],\n",
       " 'Romeo and Juliet': []}"
      ]
     },
     "execution_count": 74,
     "metadata": {},
     "output_type": "execute_result"
    }
   ],
   "source": [
    "# The following line is equivalent to the pattern: \n",
    "# shakesMovieGenres = {}\n",
    "# for playTitle in shakesPlays:\n",
    "#    shakesMovieGenres[playTitle] = []\n",
    "shakesMovieGenres = {playTitle: [] for playTitle in shakesPlays}\n",
    "shakesMovieGenres"
   ]
  },
  {
   "cell_type": "markdown",
   "metadata": {},
   "source": [
    "Now we'll write a `for` loop where we can go through each play, and another for loop inside that where we go through that play's results. We'll append that result's genre to our blank list: "
   ]
  },
  {
   "cell_type": "code",
   "execution_count": 80,
   "metadata": {},
   "outputs": [],
   "source": [
    "for query in shakesPlays:\n",
    "    params = {\"media\": \"movie\", \"term\": query, \"limit\": 200}\n",
    "    response = requests.get(\"https://itunes.apple.com/search\", params=params)\n",
    "    if response.ok: \n",
    "        parsed = json.loads(response.text)\n",
    "        for result in parsed['results']: \n",
    "            shakesMovieGenres[query].append(result['primaryGenreName'])"
   ]
  },
  {
   "cell_type": "code",
   "execution_count": 89,
   "metadata": {},
   "outputs": [
    {
     "data": {
      "text/plain": [
       "{'Hamlet': ['Drama',\n",
       "  'Drama',\n",
       "  'Drama',\n",
       "  'Drama',\n",
       "  'Drama',\n",
       "  'Comedy',\n",
       "  'Documentary',\n",
       "  'Drama',\n",
       "  'Drama',\n",
       "  'Comedy',\n",
       "  'Kids & Family',\n",
       "  'Kids & Family',\n",
       "  'Comedy',\n",
       "  'Drama',\n",
       "  'Drama',\n",
       "  'Drama',\n",
       "  'Drama',\n",
       "  'Drama',\n",
       "  'Comedy',\n",
       "  'Documentary',\n",
       "  'Drama',\n",
       "  'Drama',\n",
       "  'Comedy',\n",
       "  'Kids & Family',\n",
       "  'Kids & Family',\n",
       "  'Comedy'],\n",
       " 'King Lear': ['Drama', 'Drama'],\n",
       " 'Macbeth': ['Drama',\n",
       "  'Drama',\n",
       "  'Classics',\n",
       "  'Drama',\n",
       "  'Drama',\n",
       "  'Concert Films',\n",
       "  'Comedy',\n",
       "  'Drama',\n",
       "  'Drama',\n",
       "  'Classics',\n",
       "  'Drama',\n",
       "  'Drama',\n",
       "  'Concert Films',\n",
       "  'Comedy'],\n",
       " 'Merchant of Venice': ['Drama', 'Drama'],\n",
       " \"Midsummer Night's Dream\": ['Comedy',\n",
       "  'Drama',\n",
       "  'Comedy',\n",
       "  'Comedy',\n",
       "  'Drama',\n",
       "  'Comedy'],\n",
       " 'Much Ado About Nothing': ['Comedy', 'Comedy', 'Comedy', 'Comedy'],\n",
       " 'Othello': ['Drama', 'Drama'],\n",
       " 'Romeo and Juliet': ['Romance',\n",
       "  'Romance',\n",
       "  'Drama',\n",
       "  'Drama',\n",
       "  'Romance',\n",
       "  'Drama',\n",
       "  'Musicals',\n",
       "  'Concert Films',\n",
       "  'Comedy',\n",
       "  'Comedy',\n",
       "  'Concert Films',\n",
       "  'Romance',\n",
       "  'Romance',\n",
       "  'Drama',\n",
       "  'Drama',\n",
       "  'Romance',\n",
       "  'Drama',\n",
       "  'Musicals',\n",
       "  'Concert Films',\n",
       "  'Comedy',\n",
       "  'Comedy',\n",
       "  'Concert Films']}"
      ]
     },
     "execution_count": 89,
     "metadata": {},
     "output_type": "execute_result"
    }
   ],
   "source": [
    "shakesMovieGenres"
   ]
  },
  {
   "cell_type": "code",
   "execution_count": 90,
   "metadata": {},
   "outputs": [
    {
     "data": {
      "text/plain": [
       "['Drama',\n",
       " 'Drama',\n",
       " 'Drama',\n",
       " 'Drama',\n",
       " 'Drama',\n",
       " 'Comedy',\n",
       " 'Documentary',\n",
       " 'Drama',\n",
       " 'Drama',\n",
       " 'Comedy',\n",
       " 'Kids & Family',\n",
       " 'Kids & Family',\n",
       " 'Comedy',\n",
       " 'Drama',\n",
       " 'Drama',\n",
       " 'Drama',\n",
       " 'Drama',\n",
       " 'Drama',\n",
       " 'Comedy',\n",
       " 'Documentary',\n",
       " 'Drama',\n",
       " 'Drama',\n",
       " 'Comedy',\n",
       " 'Kids & Family',\n",
       " 'Kids & Family',\n",
       " 'Comedy']"
      ]
     },
     "execution_count": 90,
     "metadata": {},
     "output_type": "execute_result"
    }
   ],
   "source": [
    "shakesMovieGenres[\"Hamlet\"]"
   ]
  },
  {
   "cell_type": "markdown",
   "metadata": {},
   "source": [
    "We can count these up the long way: "
   ]
  },
  {
   "cell_type": "code",
   "execution_count": 93,
   "metadata": {},
   "outputs": [
    {
     "data": {
      "text/plain": [
       "{'Comedy': 6, 'Documentary': 2, 'Drama': 14, 'Kids & Family': 4}"
      ]
     },
     "execution_count": 93,
     "metadata": {},
     "output_type": "execute_result"
    }
   ],
   "source": [
    "hamletGenreCounts = {}\n",
    "for genre in shakesMovieGenres[\"Hamlet\"]: \n",
    "    # If it's already in the dictionary\n",
    "    if genre in hamletGenreCounts:\n",
    "        hamletGenreCounts[genre] = hamletGenreCounts[genre] + 1\n",
    "    # If it's not there yet\n",
    "    else:\n",
    "        hamletGenreCounts[genre] = 1\n",
    "hamletGenreCounts"
   ]
  },
  {
   "cell_type": "markdown",
   "metadata": {},
   "source": [
    "Or we can actually just use the `value_counts()` method of the pandas Series object: "
   ]
  },
  {
   "cell_type": "code",
   "execution_count": 111,
   "metadata": {},
   "outputs": [
    {
     "data": {
      "text/plain": [
       "Drama            14\n",
       "Comedy            6\n",
       "Kids & Family     4\n",
       "Documentary       2\n",
       "dtype: int64"
      ]
     },
     "execution_count": 111,
     "metadata": {},
     "output_type": "execute_result"
    }
   ],
   "source": [
    "pandas.Series(shakesMovieGenres[\"Hamlet\"]).value_counts()"
   ]
  },
  {
   "cell_type": "markdown",
   "metadata": {},
   "source": [
    "Now we can plot it as a pie chart: "
   ]
  },
  {
   "cell_type": "code",
   "execution_count": 112,
   "metadata": {},
   "outputs": [
    {
     "data": {
      "text/plain": [
       "<matplotlib.axes._subplots.AxesSubplot at 0x7fc8cbe8da90>"
      ]
     },
     "execution_count": 112,
     "metadata": {},
     "output_type": "execute_result"
    },
    {
     "data": {
      "image/png": "[encoded data removed]",
      "text/plain": [
       "<matplotlib.figure.Figure at 0x7fc8cc073588>"
      ]
     },
     "metadata": {},
     "output_type": "display_data"
    }
   ],
   "source": [
    "pandas.Series(shakesMovieGenres[\"Hamlet\"]).value_counts().plot(kind='pie')"
   ]
  },
  {
   "cell_type": "markdown",
   "metadata": {},
   "source": [
    "We can do that for all the plays using this dictionary comprehension: "
   ]
  },
  {
   "cell_type": "code",
   "execution_count": 109,
   "metadata": {},
   "outputs": [],
   "source": [
    "shakesMovieGenreCounts = {play: pandas.Series(genres).value_counts() \n",
    "                          for play, genres in shakesMovieGenres.items()}"
   ]
  },
  {
   "cell_type": "markdown",
   "metadata": {},
   "source": [
    "That just says: \"create a dictionary from a list, where that list is the key-value pairs (`.items()`) in the dictionary `shakesMovieGenres`. The keys should be the keys of `shakesMovieGenres`, and the values should be value counts of Pandas `Series` objects.\" Don't worry about understanding the form of this dictionary comprehension right away. \n",
    "\n",
    "Let's plot this using a stacked bar chart: "
   ]
  },
  {
   "cell_type": "code",
   "execution_count": 110,
   "metadata": {},
   "outputs": [
    {
     "data": {
      "text/plain": [
       "<matplotlib.axes._subplots.AxesSubplot at 0x7fc8cc09d710>"
      ]
     },
     "execution_count": 110,
     "metadata": {},
     "output_type": "execute_result"
    },
    {
     "data": {
      "image/png": "[encoded data removed]",
      "text/plain": [
       "<matplotlib.figure.Figure at 0x7fc8cbf317b8>"
      ]
     },
     "metadata": {},
     "output_type": "display_data"
    }
   ],
   "source": [
    "pandas.DataFrame(shakesMovieGenreCounts).T.plot(kind='bar', stacked=True)"
   ]
  }
 ],
 "metadata": {
  "kernelspec": {
   "display_name": "Python 3",
   "language": "python",
   "name": "python3"
  },
  "language_info": {
   "codemirror_mode": {
    "name": "ipython",
    "version": 3
   },
   "file_extension": ".py",
   "mimetype": "text/x-python",
   "name": "python",
   "nbconvert_exporter": "python",
   "pygments_lexer": "ipython3",
   "version": "3.7.3"
  }
 },
 "nbformat": 4,
 "nbformat_minor": 2
}
