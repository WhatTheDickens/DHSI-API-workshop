{
 "cells": [
  {
   "cell_type": "markdown",
   "metadata": {},
   "source": [
    "# Exploring and Visualizing Data\n",
    "\n",
    "Let's start with the research question: is continental philosophy (critical theory) waning in popularity? Of course, \"popularity\" is not something we can directly measure, except by proxy. But through the Open Library API, we might be able to gather publications statistics for a few writers, and make a guess. If Foucault's books, or Derrida's, are still in print, this will allow us a more educated guess of whether they're still being discussed. \n",
    "\n",
    "[Open Library's API documentation](https://openlibrary.org/dev/docs/api/search) tells us that this is an example book search queryl for a particular author: \n",
    "\n",
    "http://openlibrary.org/search.json?author=foucault\n",
    "\n",
    "We can translate that into a `requests` query. But first, get the necessary libraries:   "
   ]
  },
  {
   "cell_type": "code",
   "execution_count": 1,
   "metadata": {},
   "outputs": [],
   "source": [
    "import requests\n",
    "import json\n",
    "\n",
    "# This is our data analysis library, Pandas\n",
    "import pandas\n",
    "\n",
    "# And this is to tell Jupyter that we want to see our plots in this notebook. \n",
    "%matplotlib inline"
   ]
  },
  {
   "cell_type": "markdown",
   "metadata": {},
   "source": [
    "Then add the parameters. We'll use a single author to start with, Michel Foucault: "
   ]
  },
  {
   "cell_type": "code",
   "execution_count": 2,
   "metadata": {},
   "outputs": [],
   "source": [
    "author = \"Michel Foucault\"\n",
    "params = {'author': author }\n",
    "response = requests.get('http://openlibrary.org/search.json', params=params)"
   ]
  },
  {
   "cell_type": "markdown",
   "metadata": {},
   "source": [
    "Make sure to check whether the response came back `200` or \"OK\": "
   ]
  },
  {
   "cell_type": "code",
   "execution_count": 3,
   "metadata": {},
   "outputs": [
    {
     "data": {
      "text/plain": [
       "<Response [200]>"
      ]
     },
     "execution_count": 3,
     "metadata": {},
     "output_type": "execute_result"
    }
   ],
   "source": [
    "response"
   ]
  },
  {
   "cell_type": "markdown",
   "metadata": {},
   "source": [
    "Parse the results: "
   ]
  },
  {
   "cell_type": "code",
   "execution_count": 4,
   "metadata": {},
   "outputs": [],
   "source": [
    "parsedJSON = json.loads(response.text)"
   ]
  },
  {
   "cell_type": "markdown",
   "metadata": {},
   "source": [
    "Now see what keys we have in the resulting dictionary:"
   ]
  },
  {
   "cell_type": "code",
   "execution_count": 5,
   "metadata": {},
   "outputs": [
    {
     "data": {
      "text/plain": [
       "dict_keys(['start', 'num_found', 'numFound', 'docs'])"
      ]
     },
     "execution_count": 5,
     "metadata": {},
     "output_type": "execute_result"
    }
   ],
   "source": [
    "parsedJSON.keys()"
   ]
  },
  {
   "cell_type": "markdown",
   "metadata": {},
   "source": [
    "`numFound` is probably the number of books found with this search. "
   ]
  },
  {
   "cell_type": "code",
   "execution_count": 6,
   "metadata": {},
   "outputs": [
    {
     "data": {
      "text/plain": [
       "295"
      ]
     },
     "execution_count": 6,
     "metadata": {},
     "output_type": "execute_result"
    }
   ],
   "source": [
    "parsedJSON['numFound']"
   ]
  },
  {
   "cell_type": "markdown",
   "metadata": {},
   "source": [
    "But let's see how many we actually have in `docs`: "
   ]
  },
  {
   "cell_type": "code",
   "execution_count": 7,
   "metadata": {},
   "outputs": [
    {
     "data": {
      "text/plain": [
       "100"
      ]
     },
     "execution_count": 7,
     "metadata": {},
     "output_type": "execute_result"
    }
   ],
   "source": [
    "len(parsedJSON['docs'])"
   ]
  },
  {
   "cell_type": "markdown",
   "metadata": {},
   "source": [
    "Only 100 at a time. So maybe we can try a new request, but get the second page. This is a common pattern with APIs: "
   ]
  },
  {
   "cell_type": "code",
   "execution_count": 8,
   "metadata": {},
   "outputs": [],
   "source": [
    "author = \"Michel Foucault\"\n",
    "params = {'author': author,\n",
    "          'page': 2}\n",
    "response = requests.get('http://openlibrary.org/search.json', params=params)"
   ]
  },
  {
   "cell_type": "code",
   "execution_count": 9,
   "metadata": {},
   "outputs": [
    {
     "data": {
      "text/plain": [
       "True"
      ]
     },
     "execution_count": 9,
     "metadata": {},
     "output_type": "execute_result"
    }
   ],
   "source": [
    "response.ok"
   ]
  },
  {
   "cell_type": "code",
   "execution_count": 10,
   "metadata": {},
   "outputs": [
    {
     "name": "stdout",
     "output_type": "stream",
     "text": [
      "{\n",
      " \"start\": 100,\n",
      " \"num_found\": 295,\n",
      " \"numFound\": 295,\n",
      " \"docs\": [\n",
      "  {\n",
      "   \"title_suggest\": \"Historia de La Locura En La Epoca Clasica 2t.\",\n",
      "   \"edition_key\": [\n",
      "    \"OL9172345M\"\n",
      "   ],\n",
      "   \"isbn\": [\n",
      "    \"9681602684\",\n",
      "    \"9789681602680\"\n",
      "   ],\n",
      "   \"has_fulltext\": false,\n",
      "   \"text\": [\n",
      "    \"OL9172345M\",\n",
      "    \"9681602684\",\n",
      "    \"9789681602680\",\n",
      "    \"Michel Foucault\",\n",
      "    \"OL4346031A\",\n",
      "    \"Historia de La Locura En La Epoca Clasica 2t.\",\n",
      "    \"Philosophy\",\n",
      "    \"General\",\n",
      "    \"/works/OL9172345M\",\n",
      "    \"Fondo De \n"
     ]
    }
   ],
   "source": [
    "print(response.text[:500])"
   ]
  },
  {
   "cell_type": "code",
   "execution_count": 11,
   "metadata": {},
   "outputs": [],
   "source": [
    "parsedJSON = json.loads(response.text)"
   ]
  },
  {
   "cell_type": "code",
   "execution_count": 12,
   "metadata": {},
   "outputs": [
    {
     "data": {
      "text/plain": [
       "100"
      ]
     },
     "execution_count": 12,
     "metadata": {},
     "output_type": "execute_result"
    }
   ],
   "source": [
    "len(parsedJSON['docs'])"
   ]
  },
  {
   "cell_type": "markdown",
   "metadata": {},
   "source": [
    "What kinds of data can we get about these books? Since the JSON parser gives us a Python dictionary, we can use the `keys()` method on the first book to see what kind of data is in it: "
   ]
  },
  {
   "cell_type": "code",
   "execution_count": 13,
   "metadata": {},
   "outputs": [
    {
     "data": {
      "text/plain": [
       "dict_keys(['title_suggest', 'edition_key', 'isbn', 'has_fulltext', 'text', 'author_name', 'seed', 'author_alternative_name', 'author_key', 'subject', 'title', 'publish_date', 'type', 'ebook_count_i', 'edition_count', 'key', 'id_goodreads', 'publisher', 'language', 'last_modified_i', 'id_librarything', 'publish_year', 'first_publish_year'])"
      ]
     },
     "execution_count": 13,
     "metadata": {},
     "output_type": "execute_result"
    }
   ],
   "source": [
    "parsedJSON['docs'][0].keys()"
   ]
  },
  {
   "cell_type": "markdown",
   "metadata": {},
   "source": [
    "`publish_year` sounds like a promising field. What's in it? "
   ]
  },
  {
   "cell_type": "code",
   "execution_count": 14,
   "metadata": {},
   "outputs": [
    {
     "data": {
      "text/plain": [
       "[1998]"
      ]
     },
     "execution_count": 14,
     "metadata": {},
     "output_type": "execute_result"
    }
   ],
   "source": [
    "pubYears = parsedJSON['docs'][0]['publish_year']\n",
    "pubYears"
   ]
  },
  {
   "cell_type": "markdown",
   "metadata": {},
   "source": [
    "How about some of the other fields? "
   ]
  },
  {
   "cell_type": "code",
   "execution_count": 15,
   "metadata": {},
   "outputs": [
    {
     "data": {
      "text/plain": [
       "'Historia de La Locura En La Epoca Clasica 2t.'"
      ]
     },
     "execution_count": 15,
     "metadata": {},
     "output_type": "execute_result"
    }
   ],
   "source": [
    "parsedJSON['docs'][0]['title']"
   ]
  },
  {
   "cell_type": "code",
   "execution_count": 17,
   "metadata": {},
   "outputs": [
    {
     "data": {
      "text/plain": [
       "1998"
      ]
     },
     "execution_count": 17,
     "metadata": {},
     "output_type": "execute_result"
    }
   ],
   "source": [
    "parsedJSON['docs'][0]['first_publish_year']"
   ]
  },
  {
   "cell_type": "markdown",
   "metadata": {},
   "source": [
    "Let's take `pubYears`, the list of publication years for _Histoire de la sexualité_, and plot it. First, we make a pandas `Series` out of it, and then we call the `Series` method `.hist()`, which plots a histogram of those years for us. "
   ]
  },
  {
   "cell_type": "code",
   "execution_count": 18,
   "metadata": {},
   "outputs": [
    {
     "data": {
      "text/plain": [
       "<matplotlib.axes._subplots.AxesSubplot at 0x7fbd391e58d0>"
      ]
     },
     "execution_count": 18,
     "metadata": {},
     "output_type": "execute_result"
    },
    {
     "data": {
      "image/png": "[encoded data removed]",
      "text/plain": [
       "<matplotlib.figure.Figure at 0x7fbd3925dc18>"
      ]
     },
     "metadata": {},
     "output_type": "display_data"
    }
   ],
   "source": [
    "pandas.Series(pubYears).hist()"
   ]
  },
  {
   "cell_type": "markdown",
   "metadata": {},
   "source": [
    "Cool. What if we were to do this for all 100 books in our API response? All we need to do is write a `for` loop to go through each book, and add the list of publication years to our master list of all publication years: "
   ]
  },
  {
   "cell_type": "code",
   "execution_count": 19,
   "metadata": {},
   "outputs": [],
   "source": [
    "# Initialize an empty list for us to accumulate our publication years.\n",
    "allPubYears = [] \n",
    "\n",
    "# Go through each book (the first 100, anyway)\n",
    "for doc in parsedJSON['docs']: \n",
    "    # Check to make sure the current book has this field, \n",
    "    # first, or else it'll fail. \n",
    "    if 'publish_year' in doc: \n",
    "        allPubYears = allPubYears + doc['publish_year']"
   ]
  },
  {
   "cell_type": "code",
   "execution_count": 20,
   "metadata": {},
   "outputs": [
    {
     "data": {
      "text/plain": [
       "<matplotlib.axes._subplots.AxesSubplot at 0x7fbd391357b8>"
      ]
     },
     "execution_count": 20,
     "metadata": {},
     "output_type": "execute_result"
    },
    {
     "data": {
      "image/png": "[encoded data removed]",
      "text/plain": [
       "<matplotlib.figure.Figure at 0x7fbd3925dc88>"
      ]
     },
     "metadata": {},
     "output_type": "display_data"
    }
   ],
   "source": [
    "foucaultPubYears = pandas.Series(allPubYears)\n",
    "foucaultPubYears.hist()"
   ]
  },
  {
   "cell_type": "markdown",
   "metadata": {},
   "source": [
    "Wow, Foucault's books seem to be increasing in popularity, but not as many books have been published in the past decade. Let's see about Derrida's. If I weren't so lazy, I'd write a function so that I wouldn't have to reuse my code like this. But since I'm lazy, I'll just copy and paste the cells from above."
   ]
  },
  {
   "cell_type": "code",
   "execution_count": 21,
   "metadata": {},
   "outputs": [],
   "source": [
    "author = \"Jacques Derrida\"\n",
    "params = {'author': author }\n",
    "response = requests.get('http://openlibrary.org/search.json', params=params)"
   ]
  },
  {
   "cell_type": "code",
   "execution_count": 22,
   "metadata": {},
   "outputs": [
    {
     "data": {
      "text/plain": [
       "True"
      ]
     },
     "execution_count": 22,
     "metadata": {},
     "output_type": "execute_result"
    }
   ],
   "source": [
    "response.ok"
   ]
  },
  {
   "cell_type": "code",
   "execution_count": 23,
   "metadata": {},
   "outputs": [],
   "source": [
    "parsedJSON = json.loads(response.text)"
   ]
  },
  {
   "cell_type": "code",
   "execution_count": 24,
   "metadata": {},
   "outputs": [
    {
     "data": {
      "text/plain": [
       "315"
      ]
     },
     "execution_count": 24,
     "metadata": {},
     "output_type": "execute_result"
    }
   ],
   "source": [
    "parsedJSON['numFound']"
   ]
  },
  {
   "cell_type": "code",
   "execution_count": 25,
   "metadata": {},
   "outputs": [],
   "source": [
    "# Initialize an empty list for us to accumulate our publication years.\n",
    "allPubYears = [] \n",
    "\n",
    "# Go through each book (the first 100, anyway)\n",
    "for doc in parsedJSON['docs']: \n",
    "    # Check to make sure the current book has this field, \n",
    "    # first, or else it'll fail. \n",
    "    if 'publish_year' in doc: \n",
    "        allPubYears = allPubYears + doc['publish_year']"
   ]
  },
  {
   "cell_type": "code",
   "execution_count": 26,
   "metadata": {},
   "outputs": [
    {
     "data": {
      "text/plain": [
       "<matplotlib.axes._subplots.AxesSubplot at 0x7fbd39250550>"
      ]
     },
     "execution_count": 26,
     "metadata": {},
     "output_type": "execute_result"
    },
    {
     "data": {
      "image/png": "[encoded data removed]",
      "text/plain": [
       "<matplotlib.figure.Figure at 0x7fbd392f0c50>"
      ]
     },
     "metadata": {},
     "output_type": "display_data"
    }
   ],
   "source": [
    "derridaPubYears = pandas.Series(allPubYears)\n",
    "derridaPubYears.hist()"
   ]
  },
  {
   "cell_type": "markdown",
   "metadata": {},
   "source": [
    "Wow, even more so. How about Karl Marx? "
   ]
  },
  {
   "cell_type": "code",
   "execution_count": 27,
   "metadata": {},
   "outputs": [],
   "source": [
    "author = \"Karl Marx\"\n",
    "params = {'author': author }\n",
    "response = requests.get('http://openlibrary.org/search.json', params=params)"
   ]
  },
  {
   "cell_type": "code",
   "execution_count": 28,
   "metadata": {},
   "outputs": [
    {
     "data": {
      "text/plain": [
       "True"
      ]
     },
     "execution_count": 28,
     "metadata": {},
     "output_type": "execute_result"
    }
   ],
   "source": [
    "response.ok"
   ]
  },
  {
   "cell_type": "code",
   "execution_count": 29,
   "metadata": {},
   "outputs": [],
   "source": [
    "parsedJSON = json.loads(response.text)"
   ]
  },
  {
   "cell_type": "code",
   "execution_count": 30,
   "metadata": {},
   "outputs": [],
   "source": [
    "# Initialize an empty list for us to accumulate our publication years.\n",
    "allPubYears = [] \n",
    "\n",
    "# Go through each book (the first 100, anyway)\n",
    "for doc in parsedJSON['docs']: \n",
    "    # Check to make sure the current book has this field, \n",
    "    # first, or else it'll fail. \n",
    "    if 'publish_year' in doc: \n",
    "        allPubYears = allPubYears + doc['publish_year']"
   ]
  },
  {
   "cell_type": "code",
   "execution_count": 31,
   "metadata": {},
   "outputs": [
    {
     "data": {
      "text/plain": [
       "<matplotlib.axes._subplots.AxesSubplot at 0x7fbd3581e320>"
      ]
     },
     "execution_count": 31,
     "metadata": {},
     "output_type": "execute_result"
    },
    {
     "data": {
      "image/png": "[encoded data removed]",
      "text/plain": [
       "<matplotlib.figure.Figure at 0x7fbd392f00f0>"
      ]
     },
     "metadata": {},
     "output_type": "display_data"
    }
   ],
   "source": [
    "marxPubYears = pandas.Series(allPubYears)\n",
    "marxPubYears.hist()"
   ]
  },
  {
   "cell_type": "markdown",
   "metadata": {},
   "source": [
    "Wow, Marx seems to be most active around 1975. \n",
    "\n",
    "### Exercise\n",
    "\n",
    "Determine whether, according to the Open Library API, at least, a writer of your choosing is gaining or losing popularity. Plot a histogram. (Bonus: save your histogram to your computer by right-clicking on the image, and post it to Twitter with the DHSI hashtag!)"
   ]
  },
  {
   "cell_type": "markdown",
   "metadata": {},
   "source": [
    "## How many editions were published of each of Karl Marx's books?\n",
    "\n",
    "Let's manipulate these data some other ways. Let's say we want to find edition counts for each book. We can create a dictionary where the key is the book title, and the value is the edition counts, i.e. `{bookTitle: editionCounts}`. "
   ]
  },
  {
   "cell_type": "code",
   "execution_count": null,
   "metadata": {},
   "outputs": [],
   "source": [
    "# First, initialize an empty dictionary. \n",
    "editionsPerBook = {}\n",
    "\n",
    "# Now, go through each book, \n",
    "for doc in parsedJSON['docs']: \n",
    "    # If the book has an edition count,\n",
    "    if 'edition_count' in doc:\n",
    "        # Grab the title of the bookm\n",
    "        title = doc['title']\n",
    "        # And the number of editions,\n",
    "        counts = doc['edition_count']\n",
    "        # And add a dictionary entry where the key is the title,\n",
    "        # and the value is the number of editions. \n",
    "        editionsPerBook[title] = counts"
   ]
  },
  {
   "cell_type": "code",
   "execution_count": 41,
   "metadata": {},
   "outputs": [
    {
     "data": {
      "text/plain": [
       "{'A Contribution to the critique of political economy': 1,\n",
       " 'Achtzehnte Brumaire des Louis Bonaparte': 32,\n",
       " 'Anarchism and anarcho-syndicalism': 6,\n",
       " 'Articles on Britain': 4,\n",
       " 'Articles on India': 4,\n",
       " 'Ausgewählte Schriften in zwei Bänden': 3,\n",
       " 'Basic writings on politics and philosophy': 11,\n",
       " 'Briefe über \"Das Kapital\"': 20,\n",
       " 'Bürgerkrieg in Frankreich': 29,\n",
       " 'Collected Works': 42,\n",
       " 'Collected works (of) Karl Marx (and) Frederick Engels': 4,\n",
       " 'Communist manifesto, socialist landmark': 7,\n",
       " 'Das Kapital': 48,\n",
       " 'Deutsche Ideologie': 42,\n",
       " 'Die Frühschriften': 3,\n",
       " 'ENTHÜLLUNGEN ÜBER DEN KOMMUNISTENPROZESS ZU KÖLN': 3,\n",
       " 'Early writings': 10,\n",
       " 'Economic and philosophic manuscripts of 1844': 17,\n",
       " 'El Capital': 5,\n",
       " 'Essential writings of Karl Marx': 9,\n",
       " 'Frühe Schriften': 3,\n",
       " 'Genesis of capital': 3,\n",
       " 'Gesamtausgabe': 3,\n",
       " 'Gesamtausgabe (MEGA)': 10,\n",
       " 'Grundrisse der Kritik der politischen Ökonomie': 14,\n",
       " 'Ireland and the Irish question': 7,\n",
       " 'K. Marks i F. Ėngelʹs ob iskusstve': 3,\n",
       " 'K. Marx and F. Engels on religion': 3,\n",
       " 'Karl Marx': 18,\n",
       " 'Karl Marx and Frederick Engels': 28,\n",
       " 'Karl Marx and Frederick Engels on Britain': 4,\n",
       " 'Karl Marx dictionary': 4,\n",
       " 'Karl Marx, Frederick Engels on literature and art': 3,\n",
       " 'Klassenkämpfe in Frankreich, 1848-1850': 9,\n",
       " 'Kritik des Gothaer Programms': 4,\n",
       " 'La guerre civile en France': 3,\n",
       " 'Le capital ; livre 1': 3,\n",
       " 'Letters to Americans, 1848-1895': 3,\n",
       " 'Letters to Dr. Kugelmann': 9,\n",
       " 'Literature and art': 4,\n",
       " 'Lohnarbeit und Kapital': 44,\n",
       " \"Makesi En'gesi xuan ji\": 3,\n",
       " 'Manifest der Kommunistischen Partei': 216,\n",
       " 'Manifest der Kommunistischen Partei. English': 4,\n",
       " 'Manifeste du Parti Communiste': 4,\n",
       " 'Manuscrits de 1844': 4,\n",
       " 'Marx': 6,\n",
       " 'Marx & Engels on literature & art': 5,\n",
       " \"Marx's Grundrisse\": 7,\n",
       " 'Marx-Engels Studienausgabe': 5,\n",
       " 'Marx-Engels-Jahrbuch': 11,\n",
       " 'Misère de la philosophie. Réponse a la philosophie de la misère de M. Proudhon': 37,\n",
       " 'Notes on Indian History': 4,\n",
       " 'Notes on Indian history (664-1858)': 3,\n",
       " 'On Britain': 3,\n",
       " 'On colonialism': 6,\n",
       " 'On history and people': 4,\n",
       " 'On religion': 15,\n",
       " 'On the Paris Commune': 4,\n",
       " 'Oysgeehle er': 4,\n",
       " 'Pisʹma o \"Kapitale\"': 3,\n",
       " 'Political Writings (The Pelican Marx Library)': 4,\n",
       " 'Pre-capitalist economic formations': 12,\n",
       " 'Pre-capitalist socio-economic formations': 4,\n",
       " 'Randglossen zum Programm der Deutschen Arbeiterpartei': 14,\n",
       " 'Revolution and counter-revolution': 6,\n",
       " 'Revolution in Spain': 4,\n",
       " 'Selected correspondence': 4,\n",
       " 'Selected correspondence, 1846-1895': 3,\n",
       " 'Selected essays': 6,\n",
       " 'Selected works': 47,\n",
       " 'Selected works [of] Karl Marx and Frederick Engels': 9,\n",
       " 'Selected works in two volumes': 3,\n",
       " 'Selected writings in sociology and social philosophy': 13,\n",
       " 'Studienausgabe': 3,\n",
       " 'Surveys from exile': 5,\n",
       " 'Texte zu Methode und Praxis': 4,\n",
       " 'The Civil War in the United States': 5,\n",
       " 'The Eastern question': 8,\n",
       " 'The Karl Marx library': 6,\n",
       " 'The Marx-Engels reader': 4,\n",
       " 'The Russian menace to Europe': 4,\n",
       " 'The class struggles in France (1848-50)': 6,\n",
       " 'The class struggles in France, 1848-1850': 4,\n",
       " 'The essential Marx': 3,\n",
       " 'The essentials of Marx': 5,\n",
       " 'The first Indian war of independence, 1857-1859': 6,\n",
       " 'The first international and after': 6,\n",
       " 'The living thoughts of Karl Marx, based on Capital': 3,\n",
       " 'The revolution of 1848-49': 3,\n",
       " 'The revolutions of 1848': 6,\n",
       " 'The socialist revolution': 4,\n",
       " 'Theorien über den Mehrwert': 3,\n",
       " 'Theories of surplus-value (volume IV of Capital)': 6,\n",
       " 'Value, price and profit': 38,\n",
       " 'Writings of the young Marx on philosophy and society': 5,\n",
       " 'Zur Kritik der politischen Ökonomie': 21,\n",
       " 'Über Kunst und Literatur': 3}"
      ]
     },
     "execution_count": 41,
     "metadata": {},
     "output_type": "execute_result"
    }
   ],
   "source": [
    "editionsPerBook"
   ]
  },
  {
   "cell_type": "markdown",
   "metadata": {},
   "source": [
    "OK great. Now what are the most popular of these? Let's visualize it using Pandas. Since we  only have one column of numeric data, we can use a `Series` again. This time we'll also add the method `sort_values()` to sort them, `ascending=False` to tell it to give us the biggest first, and we'll also slice it with `[:10]` to give us the top 10 rows only: "
   ]
  },
  {
   "cell_type": "code",
   "execution_count": 35,
   "metadata": {},
   "outputs": [
    {
     "data": {
      "text/plain": [
       "Manifest der Kommunistischen Partei                                               216\n",
       "Das Kapital                                                                        48\n",
       "Selected works                                                                     47\n",
       "Lohnarbeit und Kapital                                                             44\n",
       "Deutsche Ideologie                                                                 42\n",
       "Collected Works                                                                    42\n",
       "Value, price and profit                                                            38\n",
       "Misère de la philosophie. Réponse a la philosophie de la misère de M. Proudhon     37\n",
       "Achtzehnte Brumaire des Louis Bonaparte                                            32\n",
       "Bürgerkrieg in Frankreich                                                          29\n",
       "dtype: int64"
      ]
     },
     "execution_count": 35,
     "metadata": {},
     "output_type": "execute_result"
    }
   ],
   "source": [
    "marxEditionsPerBook = pandas.Series(editionsPerBook).sort_values(ascending=False)[:10]\n",
    "marxEditionsPerBook"
   ]
  },
  {
   "cell_type": "markdown",
   "metadata": {},
   "source": [
    "To plot this, we can just use the pandas `Series` method `.plot()`. We'll tell it that we want a bar chart, since otherwise it'll assume we want a line chart: "
   ]
  },
  {
   "cell_type": "code",
   "execution_count": 36,
   "metadata": {},
   "outputs": [
    {
     "data": {
      "text/plain": [
       "<matplotlib.axes._subplots.AxesSubplot at 0x7fbd35798358>"
      ]
     },
     "execution_count": 36,
     "metadata": {},
     "output_type": "execute_result"
    },
    {
     "data": {
      "image/png": "[encoded data removed]",
      "text/plain": [
       "<matplotlib.figure.Figure at 0x7fbd392e8f60>"
      ]
     },
     "metadata": {},
     "output_type": "display_data"
    }
   ],
   "source": [
    "marxEditionsPerBook.plot(kind='bar')"
   ]
  },
  {
   "cell_type": "markdown",
   "metadata": {},
   "source": [
    "### Exercise\n",
    "\n",
    "Plot the number of editions published for each of the works of a writer of your choosing. (You'll probably want to pick a writer who has published more than one book, for it to be an interesting graph.)"
   ]
  }
 ],
 "metadata": {
  "kernelspec": {
   "display_name": "Python 3",
   "language": "python",
   "name": "python3"
  },
  "language_info": {
   "codemirror_mode": {
    "name": "ipython",
    "version": 3
   },
   "file_extension": ".py",
   "mimetype": "text/x-python",
   "name": "python",
   "nbconvert_exporter": "python",
   "pygments_lexer": "ipython3",
   "version": "3.6.5"
  }
 },
 "nbformat": 4,
 "nbformat_minor": 2
}
