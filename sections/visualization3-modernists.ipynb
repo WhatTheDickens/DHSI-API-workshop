{
 "cells": [
  {
   "cell_type": "markdown",
   "metadata": {},
   "source": [
    "# Exploring and Visualizing Data, Part III\n",
    "\n",
    "We learn from [the iTunes search API documentation](https://affiliate.itunes.apple.com/resources/documentation/itunes-store-web-service-search-api/) that we can search all kinds of things in iTunes, without needing to authenticate (not that authentication is that difficult, really). For instance, we can search music with the key `media` and the value `music`. We need to provide our search term using the key `term`. The default number of results is 50, but let's try to get as many as we can (200), by setting `limit` to 200. \n",
    "\n",
    "Let's say our research question is: \"how many songs are written about modernist authors?\" We can search for the names of songs in the iTunes music library. \n",
    "\n",
    "**Warning**: Apple tells us that we can't make more than 20 requests per minute. That sounds reasonable, but it's also something we should be aware of. "
   ]
  },
  {
   "cell_type": "code",
   "execution_count": 2,
   "metadata": {},
   "outputs": [],
   "source": [
    "import requests\n",
    "import json\n",
    "import pandas"
   ]
  },
  {
   "cell_type": "markdown",
   "metadata": {},
   "source": [
    "First, let's just get the songs matching one author's name. "
   ]
  },
  {
   "cell_type": "code",
   "execution_count": 36,
   "metadata": {},
   "outputs": [],
   "source": [
    "query = \"Virginia Woolf\"\n",
    "params = {\"media\": \"music\", \"term\": query, \"limit\": 200}\n",
    "response = requests.get(\"https://itunes.apple.com/search\", params=params)"
   ]
  },
  {
   "cell_type": "code",
   "execution_count": 37,
   "metadata": {},
   "outputs": [
    {
     "data": {
      "text/plain": [
       "True"
      ]
     },
     "execution_count": 37,
     "metadata": {},
     "output_type": "execute_result"
    }
   ],
   "source": [
    "response.ok"
   ]
  },
  {
   "cell_type": "code",
   "execution_count": 38,
   "metadata": {},
   "outputs": [],
   "source": [
    "parsedJSON = json.loads(response.text)"
   ]
  },
  {
   "cell_type": "code",
   "execution_count": 39,
   "metadata": {},
   "outputs": [
    {
     "data": {
      "text/plain": [
       "dict_keys(['resultCount', 'results'])"
      ]
     },
     "execution_count": 39,
     "metadata": {},
     "output_type": "execute_result"
    }
   ],
   "source": [
    "parsedJSON.keys()"
   ]
  },
  {
   "cell_type": "code",
   "execution_count": 40,
   "metadata": {},
   "outputs": [
    {
     "data": {
      "text/plain": [
       "35"
      ]
     },
     "execution_count": 40,
     "metadata": {},
     "output_type": "execute_result"
    }
   ],
   "source": [
    "parsedJSON['resultCount']"
   ]
  },
  {
   "cell_type": "code",
   "execution_count": 41,
   "metadata": {},
   "outputs": [
    {
     "data": {
      "text/plain": [
       "dict_keys(['wrapperType', 'kind', 'artistId', 'collectionId', 'trackId', 'artistName', 'collectionName', 'trackName', 'collectionCensoredName', 'trackCensoredName', 'artistViewUrl', 'collectionViewUrl', 'trackViewUrl', 'artworkUrl30', 'artworkUrl60', 'artworkUrl100', 'releaseDate', 'collectionExplicitness', 'trackExplicitness', 'discCount', 'discNumber', 'trackCount', 'trackNumber', 'trackTimeMillis', 'country', 'currency', 'primaryGenreName', 'isStreamable'])"
      ]
     },
     "execution_count": 41,
     "metadata": {},
     "output_type": "execute_result"
    }
   ],
   "source": [
    "parsedJSON['results'][0].keys()"
   ]
  },
  {
   "cell_type": "code",
   "execution_count": 42,
   "metadata": {},
   "outputs": [
    {
     "name": "stdout",
     "output_type": "stream",
     "text": [
      "Indigo Girls: Virginia Woolf\n",
      "Indigo Girls: Virginia Woolf\n",
      "Indigo Girls: Virginia Woolf\n",
      "Virginia Woolf: Three Worlds. Music from Woolf Works: Mrs. Dalloway: Words\n",
      "Dala: Virginia Woolf\n",
      "Robyn Hitchcock: Virginia Woolf\n",
      "Sadistik: Virginia Woolf\n",
      "Thieves and Villains: Virginia Woolf\n",
      "Ricky Ian Gordon: Virginia Woolf\n",
      "Célia Johnson & Virginia Woolf: Words\n",
      "The Buckinghams: Virginia Woolf\n",
      "Virginia Woolf: Monday or Tuesday (feat. Ghizela Rowe)\n",
      "Chelsea Wolfe: Virginia Woolf Underwater (Bonus Track)\n",
      "Blake Jones & the Trike Shop: Virginia Woolf\n",
      "Jimmy Smith: Who's Afraid of Virginia Woolf?\n",
      "James Brown: Who's Afraid of Virginia Woolf?\n",
      "Jimmy Smith: Bluesette\n",
      "Virginia Woolf: Blue & Green (feat. Ghizela Rowe)\n",
      "Virginia Woolf: Virginia Woolf - An Introduction (feat. Ghizela Rowe)\n",
      "Virginia Woolf: An Unwritten Novel (feat. Richard Mitchley)\n",
      "Virginia Woolf: Kew Gardens (feat. Ghizela Rowe)\n",
      "Célia Johnson & Virginia Woolf: Mrs. Dalloway\n",
      "Virginia Woolf: A Society (feat. Richard Mitchley)\n",
      "Virginia Woolf: The String Quartet (feat. Richard Mitchley)\n",
      "Virginia Woolf: A Haunted House (feat. Richard Mitchley)\n",
      "Uta Hagen, Arthur Hill, George Grizzard & Melinda Dillon: Act I - Fun and Games\n",
      "Uta Hagen, Arthur Hill, George Grizzard & Melinda Dillon: Act III - The Exorcism\n",
      "Profesora: Virginia Woolf\n",
      "Uta Hagen, Arthur Hill, George Grizzard & Melinda Dillon: Act II - Walpurgisnacht (Conclusion)\n",
      "Uta Hagen, Arthur Hill, George Grizzard & Melinda Dillon: Act II - Walpurgisnacht (Beginning)\n",
      "Jimmy Smith: Who's Afraid of Virginia Woolf?\n",
      "Jimmy Smith: Who's Afraid of Virginia Woolf?\n",
      "Dala: Virginia Woolf\n",
      "Aston: Virginia Woolf\n",
      "Joey Batts: Virginia Woolf\n"
     ]
    }
   ],
   "source": [
    "for track in parsedJSON['results']: \n",
    "    print(track['artistName'] + \": \" + track['trackName'])"
   ]
  },
  {
   "cell_type": "code",
   "execution_count": 47,
   "metadata": {},
   "outputs": [],
   "source": [
    "query = \"James Joyce\"\n",
    "params = {\"media\": \"music\", \"term\": query, \"limit\": 200}\n",
    "response = requests.get(\"https://itunes.apple.com/search\", params=params)"
   ]
  },
  {
   "cell_type": "code",
   "execution_count": 48,
   "metadata": {},
   "outputs": [
    {
     "data": {
      "text/plain": [
       "True"
      ]
     },
     "execution_count": 48,
     "metadata": {},
     "output_type": "execute_result"
    }
   ],
   "source": [
    "response.ok"
   ]
  },
  {
   "cell_type": "code",
   "execution_count": 49,
   "metadata": {},
   "outputs": [],
   "source": [
    "parsedJSON = json.loads(response.text)"
   ]
  },
  {
   "cell_type": "code",
   "execution_count": 50,
   "metadata": {},
   "outputs": [
    {
     "data": {
      "text/plain": [
       "200"
      ]
     },
     "execution_count": 50,
     "metadata": {},
     "output_type": "execute_result"
    }
   ],
   "source": [
    "parsedJSON['resultCount']"
   ]
  },
  {
   "cell_type": "code",
   "execution_count": 62,
   "metadata": {},
   "outputs": [],
   "source": [
    "modernistsAndSongs = {}\n",
    "for query in [\"James Joyce\", \"Virginia Woolf\", \"T.S. Eliot\", \"Katherine Mansfield\", \"Joseph Conrad\"]:\n",
    "    params = {\"media\": \"music\", \"term\": query, \"attribute\": \"songTerm\", \"limit\": 200}\n",
    "    response = requests.get(\"https://itunes.apple.com/search\", params=params)\n",
    "    if response.ok: \n",
    "        parsed = json.loads(response.text)\n",
    "        if 'resultCount' in parsed: \n",
    "            modernistsAndSongs[query] = parsed['resultCount']"
   ]
  },
  {
   "cell_type": "code",
   "execution_count": 63,
   "metadata": {},
   "outputs": [
    {
     "data": {
      "text/plain": [
       "{'James Joyce': 104,\n",
       " 'Joseph Conrad': 5,\n",
       " 'Katherine Mansfield': 20,\n",
       " 'T.S. Eliot': 42,\n",
       " 'Virginia Woolf': 102}"
      ]
     },
     "execution_count": 63,
     "metadata": {},
     "output_type": "execute_result"
    }
   ],
   "source": [
    "modernistsAndSongs"
   ]
  },
  {
   "cell_type": "code",
   "execution_count": 56,
   "metadata": {},
   "outputs": [],
   "source": [
    "modernistsAndMovies = {}\n",
    "for query in [\"James Joyce\", \"Virginia Woolf\", \"T.S. Eliot\", \"Katherine Mansfield\", \"Joseph Conrad\"]:\n",
    "    params = {\"media\": \"movie\", \"term\": query, \"limit\": 200}\n",
    "    response = requests.get(\"https://itunes.apple.com/search\", params=params)\n",
    "    if response.ok: \n",
    "        parsed = json.loads(response.text)\n",
    "        if 'resultCount' in parsed: \n",
    "            modernistsAndMovies[query] = parsed['resultCount']"
   ]
  },
  {
   "cell_type": "code",
   "execution_count": 57,
   "metadata": {},
   "outputs": [
    {
     "data": {
      "text/plain": [
       "{'James Joyce': 1,\n",
       " 'Joseph Conrad': 0,\n",
       " 'Katherine Mansfield': 0,\n",
       " 'T.S. Eliot': 0,\n",
       " 'Virginia Woolf': 1}"
      ]
     },
     "execution_count": 57,
     "metadata": {},
     "output_type": "execute_result"
    }
   ],
   "source": [
    "modernistsAndMovies\n"
   ]
  },
  {
   "cell_type": "markdown",
   "metadata": {},
   "source": []
  },
  {
   "cell_type": "code",
   "execution_count": 69,
   "metadata": {},
   "outputs": [],
   "source": [
    "modernistsAndTV = {}\n",
    "for query in [\"James Joyce\", \"Virginia Woolf\", \"T.S. Eliot\", \"Katherine Mansfield\", \"Joseph Conrad\"]:\n",
    "    params = {\"media\": \"tvShow\", \"term\": query, \"limit\": 200}\n",
    "    response = requests.get(\"https://itunes.apple.com/search\", params=params)\n",
    "    if response.ok: \n",
    "        parsed = json.loads(response.text)\n",
    "        if 'resultCount' in parsed: \n",
    "            modernistsAndTV[query] = parsed['resultCount']"
   ]
  },
  {
   "cell_type": "code",
   "execution_count": 70,
   "metadata": {},
   "outputs": [
    {
     "data": {
      "text/plain": [
       "{'James Joyce': 0,\n",
       " 'Joseph Conrad': 0,\n",
       " 'Katherine Mansfield': 0,\n",
       " 'T.S. Eliot': 0,\n",
       " 'Virginia Woolf': 0}"
      ]
     },
     "execution_count": 70,
     "metadata": {},
     "output_type": "execute_result"
    }
   ],
   "source": [
    "modernistsAndTV"
   ]
  },
  {
   "cell_type": "code",
   "execution_count": null,
   "metadata": {},
   "outputs": [],
   "source": []
  },
  {
   "cell_type": "code",
   "execution_count": 64,
   "metadata": {},
   "outputs": [],
   "source": [
    "params = {\"media\": \"movie\", \"term\": \"Hamlet\", \"attribute\": \"movieTerm\", \"limit\": 200}\n",
    "response = requests.get(\"https://itunes.apple.com/search\", params=params)\n",
    "if response.ok: \n",
    "    parsed = json.loads(response.text)"
   ]
  },
  {
   "cell_type": "code",
   "execution_count": 66,
   "metadata": {},
   "outputs": [
    {
     "data": {
      "text/plain": [
       "{'artistName': 'Laurence Olivier',\n",
       " 'artworkUrl100': 'https://is1-ssl.mzstatic.com/image/thumb/Video6/v4/da/57/e6/da57e6f7-68ac-0640-0d82-2e5c76ace016/source/100x100bb.jpg',\n",
       " 'artworkUrl30': 'https://is1-ssl.mzstatic.com/image/thumb/Video6/v4/da/57/e6/da57e6f7-68ac-0640-0d82-2e5c76ace016/source/30x30bb.jpg',\n",
       " 'artworkUrl60': 'https://is1-ssl.mzstatic.com/image/thumb/Video6/v4/da/57/e6/da57e6f7-68ac-0640-0d82-2e5c76ace016/source/60x60bb.jpg',\n",
       " 'collectionExplicitness': 'notExplicit',\n",
       " 'collectionHdPrice': 19.99,\n",
       " 'collectionPrice': 14.99,\n",
       " 'contentAdvisoryRating': 'NR',\n",
       " 'country': 'USA',\n",
       " 'currency': 'USD',\n",
       " 'kind': 'feature-movie',\n",
       " 'longDescription': 'Winner of four Academy Awards, including Best Picture and Best Actor, Sir Laurence Olivier’s\\xa0Hamlet\\xa0continues to be the most compelling version of Shakespeare’s beloved tragedy. Olivier is at his most inspired—both as director and as the melancholy Dane himself—as he breathes new life into the words of one of the world’s greatest dramatists.',\n",
       " 'previewUrl': 'http://video.itunes.apple.com/apple-assets-us-std-000001/Video117/v4/dd/fb/ab/ddfbabe8-f941-f33d-a385-442ed78c62b9/mzvf_4993121954129000172.640x480.h264lc.U.p.m4v',\n",
       " 'primaryGenreName': 'Drama',\n",
       " 'releaseDate': '1948-01-01T08:00:00Z',\n",
       " 'shortDescription': 'Winner of four Academy Awards, including Best Picture and Best Actor, Sir Laurence Olivier’s\\xa0Hamlet\\xa0',\n",
       " 'trackCensoredName': 'Hamlet',\n",
       " 'trackExplicitness': 'notExplicit',\n",
       " 'trackHdPrice': 19.99,\n",
       " 'trackHdRentalPrice': 3.99,\n",
       " 'trackId': 534286078,\n",
       " 'trackName': 'Hamlet',\n",
       " 'trackPrice': 14.99,\n",
       " 'trackRentalPrice': 3.99,\n",
       " 'trackTimeMillis': 9233232,\n",
       " 'trackViewUrl': 'https://itunes.apple.com/us/movie/hamlet/id534286078?uo=4',\n",
       " 'wrapperType': 'track'}"
      ]
     },
     "execution_count": 66,
     "metadata": {},
     "output_type": "execute_result"
    }
   ],
   "source": [
    "parsed['results'][0]"
   ]
  },
  {
   "cell_type": "code",
   "execution_count": null,
   "metadata": {},
   "outputs": [],
   "source": []
  }
 ],
 "metadata": {
  "kernelspec": {
   "display_name": "Python 3",
   "language": "python",
   "name": "python3"
  },
  "language_info": {
   "codemirror_mode": {
    "name": "ipython",
    "version": 3
   },
   "file_extension": ".py",
   "mimetype": "text/x-python",
   "name": "python",
   "nbconvert_exporter": "python",
   "pygments_lexer": "ipython3",
   "version": "3.6.5"
  }
 },
 "nbformat": 4,
 "nbformat_minor": 2
}
